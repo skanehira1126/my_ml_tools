{
 "cells": [
  {
   "cell_type": "code",
   "execution_count": 83,
   "id": "opponent-group",
   "metadata": {},
   "outputs": [],
   "source": [
    "import sys\n",
    "\n",
    "import numpy as np\n",
    "import pandas as pd\n",
    "import matplotlib.pyplot as plt\n",
    "import seaborn as sns\n",
    "\n",
    "from sklearn.datasets import load_iris\n",
    "from sklearn.model_selection import KFold, StratifiedKFold\n",
    "from sklearn.model_selection import GridSearchCV\n",
    "from sklearn.metrics import roc_auc_score, roc_curve\n",
    "from sklearn.metrics import confusion_matrix, classification_report\n",
    "\n",
    "from IPython.display import display"
   ]
  },
  {
   "cell_type": "code",
   "execution_count": 93,
   "id": "breathing-involvement",
   "metadata": {},
   "outputs": [
    {
     "name": "stdout",
     "output_type": "stream",
     "text": [
      "dict_keys(['data', 'target', 'frame', 'target_names', 'DESCR', 'feature_names', 'filename'])\n"
     ]
    },
    {
     "data": {
      "text/html": [
       "<div>\n",
       "<style scoped>\n",
       "    .dataframe tbody tr th:only-of-type {\n",
       "        vertical-align: middle;\n",
       "    }\n",
       "\n",
       "    .dataframe tbody tr th {\n",
       "        vertical-align: top;\n",
       "    }\n",
       "\n",
       "    .dataframe thead th {\n",
       "        text-align: right;\n",
       "    }\n",
       "</style>\n",
       "<table border=\"1\" class=\"dataframe\">\n",
       "  <thead>\n",
       "    <tr style=\"text-align: right;\">\n",
       "      <th></th>\n",
       "      <th>sepal length (cm)</th>\n",
       "      <th>sepal width (cm)</th>\n",
       "      <th>petal length (cm)</th>\n",
       "      <th>petal width (cm)</th>\n",
       "    </tr>\n",
       "  </thead>\n",
       "  <tbody>\n",
       "    <tr>\n",
       "      <th>0</th>\n",
       "      <td>5.1</td>\n",
       "      <td>3.5</td>\n",
       "      <td>1.4</td>\n",
       "      <td>0.2</td>\n",
       "    </tr>\n",
       "    <tr>\n",
       "      <th>1</th>\n",
       "      <td>4.9</td>\n",
       "      <td>3.0</td>\n",
       "      <td>1.4</td>\n",
       "      <td>0.2</td>\n",
       "    </tr>\n",
       "    <tr>\n",
       "      <th>2</th>\n",
       "      <td>4.7</td>\n",
       "      <td>3.2</td>\n",
       "      <td>1.3</td>\n",
       "      <td>0.2</td>\n",
       "    </tr>\n",
       "    <tr>\n",
       "      <th>3</th>\n",
       "      <td>4.6</td>\n",
       "      <td>3.1</td>\n",
       "      <td>1.5</td>\n",
       "      <td>0.2</td>\n",
       "    </tr>\n",
       "    <tr>\n",
       "      <th>4</th>\n",
       "      <td>5.0</td>\n",
       "      <td>3.6</td>\n",
       "      <td>1.4</td>\n",
       "      <td>0.2</td>\n",
       "    </tr>\n",
       "  </tbody>\n",
       "</table>\n",
       "</div>"
      ],
      "text/plain": [
       "   sepal length (cm)  sepal width (cm)  petal length (cm)  petal width (cm)\n",
       "0                5.1               3.5                1.4               0.2\n",
       "1                4.9               3.0                1.4               0.2\n",
       "2                4.7               3.2                1.3               0.2\n",
       "3                4.6               3.1                1.5               0.2\n",
       "4                5.0               3.6                1.4               0.2"
      ]
     },
     "metadata": {},
     "output_type": "display_data"
    },
    {
     "name": "stdout",
     "output_type": "stream",
     "text": [
      "(150, 4)\n",
      "0    50\n",
      "1    50\n",
      "2    50\n",
      "Name: target, dtype: int64\n"
     ]
    }
   ],
   "source": [
    "data_iris_all = load_iris(as_frame=True)\n",
    "\n",
    "data_iris = data_iris_all[\"data\"]\n",
    "target_iris = data_iris_all[\"target\"]\n",
    "target_label_iris = data_iris_all[\"target_names\"]\n",
    "frame_iris = data_iris_all[\"frame\"]\n",
    "\n",
    "print(data_iris_all.keys())\n",
    "display(data_iris.head())\n",
    "print(data_iris.shape)\n",
    "print(target_iris.value_counts())"
   ]
  },
  {
   "cell_type": "code",
   "execution_count": 94,
   "id": "separate-independence",
   "metadata": {},
   "outputs": [
    {
     "data": {
      "text/html": [
       "<div>\n",
       "<style scoped>\n",
       "    .dataframe tbody tr th:only-of-type {\n",
       "        vertical-align: middle;\n",
       "    }\n",
       "\n",
       "    .dataframe tbody tr th {\n",
       "        vertical-align: top;\n",
       "    }\n",
       "\n",
       "    .dataframe thead th {\n",
       "        text-align: right;\n",
       "    }\n",
       "</style>\n",
       "<table border=\"1\" class=\"dataframe\">\n",
       "  <thead>\n",
       "    <tr style=\"text-align: right;\">\n",
       "      <th></th>\n",
       "      <th>sepal length (cm)</th>\n",
       "      <th>sepal width (cm)</th>\n",
       "      <th>petal length (cm)</th>\n",
       "      <th>petal width (cm)</th>\n",
       "      <th>target</th>\n",
       "    </tr>\n",
       "  </thead>\n",
       "  <tbody>\n",
       "    <tr>\n",
       "      <th>0</th>\n",
       "      <td>5.1</td>\n",
       "      <td>3.5</td>\n",
       "      <td>1.4</td>\n",
       "      <td>0.2</td>\n",
       "      <td>0</td>\n",
       "    </tr>\n",
       "    <tr>\n",
       "      <th>1</th>\n",
       "      <td>4.9</td>\n",
       "      <td>3.0</td>\n",
       "      <td>1.4</td>\n",
       "      <td>0.2</td>\n",
       "      <td>0</td>\n",
       "    </tr>\n",
       "    <tr>\n",
       "      <th>2</th>\n",
       "      <td>4.7</td>\n",
       "      <td>3.2</td>\n",
       "      <td>1.3</td>\n",
       "      <td>0.2</td>\n",
       "      <td>0</td>\n",
       "    </tr>\n",
       "    <tr>\n",
       "      <th>3</th>\n",
       "      <td>4.6</td>\n",
       "      <td>3.1</td>\n",
       "      <td>1.5</td>\n",
       "      <td>0.2</td>\n",
       "      <td>0</td>\n",
       "    </tr>\n",
       "    <tr>\n",
       "      <th>4</th>\n",
       "      <td>5.0</td>\n",
       "      <td>3.6</td>\n",
       "      <td>1.4</td>\n",
       "      <td>0.2</td>\n",
       "      <td>0</td>\n",
       "    </tr>\n",
       "  </tbody>\n",
       "</table>\n",
       "</div>"
      ],
      "text/plain": [
       "   sepal length (cm)  sepal width (cm)  petal length (cm)  petal width (cm)  \\\n",
       "0                5.1               3.5                1.4               0.2   \n",
       "1                4.9               3.0                1.4               0.2   \n",
       "2                4.7               3.2                1.3               0.2   \n",
       "3                4.6               3.1                1.5               0.2   \n",
       "4                5.0               3.6                1.4               0.2   \n",
       "\n",
       "   target  \n",
       "0       0  \n",
       "1       0  \n",
       "2       0  \n",
       "3       0  \n",
       "4       0  "
      ]
     },
     "metadata": {},
     "output_type": "display_data"
    },
    {
     "name": "stdout",
     "output_type": "stream",
     "text": [
      "<class 'pandas.core.frame.DataFrame'>\n",
      "RangeIndex: 150 entries, 0 to 149\n",
      "Data columns (total 5 columns):\n",
      " #   Column             Non-Null Count  Dtype  \n",
      "---  ------             --------------  -----  \n",
      " 0   sepal length (cm)  150 non-null    float64\n",
      " 1   sepal width (cm)   150 non-null    float64\n",
      " 2   petal length (cm)  150 non-null    float64\n",
      " 3   petal width (cm)   150 non-null    float64\n",
      " 4   target             150 non-null    int64  \n",
      "dtypes: float64(4), int64(1)\n",
      "memory usage: 6.0 KB\n"
     ]
    },
    {
     "data": {
      "text/plain": [
       "None"
      ]
     },
     "metadata": {},
     "output_type": "display_data"
    }
   ],
   "source": [
    "display(frame_iris.head())\n",
    "display(frame_iris.info())\n",
    "\n",
    "#from pyspark.sql.types import *\n",
    "#from pyspark.ml import Pipeline\n",
    "#from pyspark.ml.feature import RegexTokenizer, StopWordsRemover, CountVectorizer, IDF\n",
    "#from pyspark.ml.classification import NaiveBayes\n",
    "#rom pyspark.ml.evaluation import BinaryClassificationEvaluator"
   ]
  },
  {
   "cell_type": "markdown",
   "id": "alternate-gothic",
   "metadata": {},
   "source": [
    "### Sparkのセッションを起動\n",
    "javaが必要"
   ]
  },
  {
   "cell_type": "code",
   "execution_count": 95,
   "id": "small-puzzle",
   "metadata": {},
   "outputs": [
    {
     "data": {
      "text/html": [
       "\n",
       "            <div>\n",
       "                <p><b>SparkSession - hive</b></p>\n",
       "                \n",
       "        <div>\n",
       "            <p><b>SparkContext</b></p>\n",
       "\n",
       "            <p><a href=\"http://192.168.11.4:4040\">Spark UI</a></p>\n",
       "\n",
       "            <dl>\n",
       "              <dt>Version</dt>\n",
       "                <dd><code>v3.1.1</code></dd>\n",
       "              <dt>Master</dt>\n",
       "                <dd><code>local[*]</code></dd>\n",
       "              <dt>AppName</dt>\n",
       "                <dd><code>pyspark-notebook</code></dd>\n",
       "            </dl>\n",
       "        </div>\n",
       "        \n",
       "            </div>\n",
       "        "
      ],
      "text/plain": [
       "<pyspark.sql.session.SparkSession at 0x1284d4970>"
      ]
     },
     "execution_count": 95,
     "metadata": {},
     "output_type": "execute_result"
    }
   ],
   "source": [
    "from pyspark.sql import SparkSession\n",
    "# セッションを開く\n",
    "try:\n",
    "    #spark.stop()\n",
    "    pass\n",
    "except NameError:\n",
    "    pass\n",
    "\n",
    "spark = SparkSession.builder.appName(\"pyspark-notebook\").master(master=\"local[*]\").getOrCreate()\n",
    "spark"
   ]
  },
  {
   "cell_type": "code",
   "execution_count": 96,
   "id": "single-lender",
   "metadata": {},
   "outputs": [
    {
     "name": "stdout",
     "output_type": "stream",
     "text": [
      "****************\n",
      "Python version: 3.8.5 (default, Jul 21 2020, 10:48:26) \n",
      "[Clang 11.0.3 (clang-1103.0.32.62)]\n",
      "Spark version: 3.1.1\n",
      "****************\n"
     ]
    }
   ],
   "source": [
    "# print runtime versions\n",
    "print ('****************')\n",
    "print ('Python version: {}'.format(sys.version))\n",
    "print ('Spark version: {}'.format(spark.version))\n",
    "print ('****************')\n"
   ]
  },
  {
   "cell_type": "code",
   "execution_count": 129,
   "id": "cloudy-netscape",
   "metadata": {},
   "outputs": [],
   "source": [
    "import pyspark.sql.functions as F\n",
    "from pyspark.ml.feature import StringIndexer\n",
    "from pyspark.ml.feature import VectorAssembler, VectorIndexer"
   ]
  },
  {
   "cell_type": "code",
   "execution_count": 99,
   "id": "capital-procedure",
   "metadata": {},
   "outputs": [],
   "source": [
    "#データの読み込み（pandasのDataFrameより）\n",
    "spark_data = spark.createDataFrame(frame_iris)\n",
    "\n",
    "columns = spark_data.columns"
   ]
  },
  {
   "cell_type": "code",
   "execution_count": 106,
   "id": "wicked-exploration",
   "metadata": {},
   "outputs": [
    {
     "name": "stdout",
     "output_type": "stream",
     "text": [
      "columns :  ['sepal length (cm)', 'sepal width (cm)', 'petal length (cm)', 'petal width (cm)', 'target']\n",
      "rows :  150\n",
      "+-----------------+----------------+-----------------+----------------+------+\n",
      "|sepal length (cm)|sepal width (cm)|petal length (cm)|petal width (cm)|target|\n",
      "+-----------------+----------------+-----------------+----------------+------+\n",
      "|              5.1|             3.5|              1.4|             0.2|     0|\n",
      "|              4.9|             3.0|              1.4|             0.2|     0|\n",
      "|              4.7|             3.2|              1.3|             0.2|     0|\n",
      "|              4.6|             3.1|              1.5|             0.2|     0|\n",
      "|              5.0|             3.6|              1.4|             0.2|     0|\n",
      "|              5.4|             3.9|              1.7|             0.4|     0|\n",
      "|              4.6|             3.4|              1.4|             0.3|     0|\n",
      "|              5.0|             3.4|              1.5|             0.2|     0|\n",
      "|              4.4|             2.9|              1.4|             0.2|     0|\n",
      "|              4.9|             3.1|              1.5|             0.1|     0|\n",
      "+-----------------+----------------+-----------------+----------------+------+\n",
      "only showing top 10 rows\n",
      "\n"
     ]
    }
   ],
   "source": [
    "print(\"columns : \", spark_data.columns)\n",
    "print(\"rows : \", spark_data.count())\n",
    "spark_data.show(10)"
   ]
  },
  {
   "cell_type": "code",
   "execution_count": 131,
   "id": "sealed-address",
   "metadata": {},
   "outputs": [
    {
     "name": "stdout",
     "output_type": "stream",
     "text": [
      "columns :  ['sepal length (cm)', 'sepal width (cm)', 'petal length (cm)', 'petal width (cm)', 'target', 'features']\n",
      "rows :  150\n",
      "+-----------------+----------------+-----------------+----------------+------+-----------------+\n",
      "|sepal length (cm)|sepal width (cm)|petal length (cm)|petal width (cm)|target|         features|\n",
      "+-----------------+----------------+-----------------+----------------+------+-----------------+\n",
      "|              5.1|             3.5|              1.4|             0.2|     0|[5.1,3.5,1.4,0.2]|\n",
      "|              4.9|             3.0|              1.4|             0.2|     0|[4.9,3.0,1.4,0.2]|\n",
      "|              4.7|             3.2|              1.3|             0.2|     0|[4.7,3.2,1.3,0.2]|\n",
      "|              4.6|             3.1|              1.5|             0.2|     0|[4.6,3.1,1.5,0.2]|\n",
      "|              5.0|             3.6|              1.4|             0.2|     0|[5.0,3.6,1.4,0.2]|\n",
      "|              5.4|             3.9|              1.7|             0.4|     0|[5.4,3.9,1.7,0.4]|\n",
      "|              4.6|             3.4|              1.4|             0.3|     0|[4.6,3.4,1.4,0.3]|\n",
      "|              5.0|             3.4|              1.5|             0.2|     0|[5.0,3.4,1.5,0.2]|\n",
      "|              4.4|             2.9|              1.4|             0.2|     0|[4.4,2.9,1.4,0.2]|\n",
      "|              4.9|             3.1|              1.5|             0.1|     0|[4.9,3.1,1.5,0.1]|\n",
      "+-----------------+----------------+-----------------+----------------+------+-----------------+\n",
      "only showing top 10 rows\n",
      "\n"
     ]
    }
   ],
   "source": [
    "\"\"\"\n",
    "特徴量をまとめる\n",
    "\"\"\"\n",
    "feature_cols = columns[:-1]\n",
    "assembler = VectorAssembler(inputCols=feature_cols, outputCol=\"features\")\n",
    "spark_data_2 = assembler.transform(spark_data)\n",
    "\n",
    "print(\"columns : \", spark_data_2.columns)\n",
    "print(\"rows : \", spark_data_2.count())\n",
    "spark_data_2.show(10)"
   ]
  },
  {
   "cell_type": "code",
   "execution_count": 136,
   "id": "correct-bathroom",
   "metadata": {},
   "outputs": [],
   "source": [
    "labelIndexer = StringIndexer(inputCol=\"target\", outputCol=\"indexedLabel\").fit(spark_data_2)\n",
    "spark_data_3 = labelIndexer.transform(spark_data_2)"
   ]
  },
  {
   "cell_type": "code",
   "execution_count": 137,
   "id": "fitted-context",
   "metadata": {},
   "outputs": [
    {
     "name": "stdout",
     "output_type": "stream",
     "text": [
      "+-----------------+----------------+-----------------+----------------+------+-----------------+------------+\n",
      "|sepal length (cm)|sepal width (cm)|petal length (cm)|petal width (cm)|target|         features|indexedLabel|\n",
      "+-----------------+----------------+-----------------+----------------+------+-----------------+------------+\n",
      "|              5.1|             3.5|              1.4|             0.2|     0|[5.1,3.5,1.4,0.2]|         0.0|\n",
      "|              4.9|             3.0|              1.4|             0.2|     0|[4.9,3.0,1.4,0.2]|         0.0|\n",
      "|              4.7|             3.2|              1.3|             0.2|     0|[4.7,3.2,1.3,0.2]|         0.0|\n",
      "|              4.6|             3.1|              1.5|             0.2|     0|[4.6,3.1,1.5,0.2]|         0.0|\n",
      "|              5.0|             3.6|              1.4|             0.2|     0|[5.0,3.6,1.4,0.2]|         0.0|\n",
      "|              5.4|             3.9|              1.7|             0.4|     0|[5.4,3.9,1.7,0.4]|         0.0|\n",
      "|              4.6|             3.4|              1.4|             0.3|     0|[4.6,3.4,1.4,0.3]|         0.0|\n",
      "|              5.0|             3.4|              1.5|             0.2|     0|[5.0,3.4,1.5,0.2]|         0.0|\n",
      "|              4.4|             2.9|              1.4|             0.2|     0|[4.4,2.9,1.4,0.2]|         0.0|\n",
      "|              4.9|             3.1|              1.5|             0.1|     0|[4.9,3.1,1.5,0.1]|         0.0|\n",
      "+-----------------+----------------+-----------------+----------------+------+-----------------+------------+\n",
      "only showing top 10 rows\n",
      "\n"
     ]
    }
   ],
   "source": [
    "spark_data_3.show(10)"
   ]
  },
  {
   "cell_type": "code",
   "execution_count": 132,
   "id": "mexican-orange",
   "metadata": {},
   "outputs": [
    {
     "name": "stdout",
     "output_type": "stream",
     "text": [
      "+-----------------+-----+\n",
      "|         features|label|\n",
      "+-----------------+-----+\n",
      "|[5.1,3.5,1.4,0.2]|    0|\n",
      "|[4.9,3.0,1.4,0.2]|    0|\n",
      "|[4.7,3.2,1.3,0.2]|    0|\n",
      "|[4.6,3.1,1.5,0.2]|    0|\n",
      "|[5.0,3.6,1.4,0.2]|    0|\n",
      "|[5.4,3.9,1.7,0.4]|    0|\n",
      "|[4.6,3.4,1.4,0.3]|    0|\n",
      "|[5.0,3.4,1.5,0.2]|    0|\n",
      "|[4.4,2.9,1.4,0.2]|    0|\n",
      "|[4.9,3.1,1.5,0.1]|    0|\n",
      "+-----------------+-----+\n",
      "only showing top 10 rows\n",
      "\n"
     ]
    }
   ],
   "source": [
    "\"\"\"\n",
    "学習用データの作成\n",
    "pysparkのlabelColのデフォルトが'label'なので変更しておく\n",
    "\"\"\"\n",
    "learning_data = spark_data_2.select(\"features\", F.col(\"target\").alias(\"label\"))\n",
    "learning_data.show(10)\n",
    "\n",
    "train, test = learning_data.randomSplit([0.8, 0.2], seed=10)"
   ]
  },
  {
   "cell_type": "code",
   "execution_count": 143,
   "id": "caroline-framework",
   "metadata": {},
   "outputs": [],
   "source": [
    "from pyspark.ml.classification import GBTClassifier\n",
    "from pyspark.ml.regression import GBTRegressor\n",
    "from pyspark.ml.evaluation import BinaryClassificationEvaluator, MulticlassClassificationEvaluator\n",
    "from pyspark.ml.tuning import CrossValidator, ParamGridBuilder"
   ]
  },
  {
   "cell_type": "code",
   "execution_count": 138,
   "id": "skilled-trustee",
   "metadata": {},
   "outputs": [],
   "source": [
    "#とりあえずデフォルトパラメータで学習\n",
    "gbtr = GBTRegressor(\n",
    "    featuresCol=\"features\"\n",
    "    , labelCol=\"label\"\n",
    "    , \n",
    ")\n",
    "\n",
    "#学習\n",
    "model = gbtr.fit(train)"
   ]
  },
  {
   "cell_type": "code",
   "execution_count": 144,
   "id": "regular-format",
   "metadata": {},
   "outputs": [
    {
     "name": "stdout",
     "output_type": "stream",
     "text": [
      "+-----------------+-----+----------+\n",
      "|         features|label|prediction|\n",
      "+-----------------+-----+----------+\n",
      "|[4.4,2.9,1.4,0.2]|    0|       0.0|\n",
      "|[4.6,3.4,1.4,0.3]|    0|       0.0|\n",
      "|[4.7,3.2,1.6,0.2]|    0|       0.0|\n",
      "|[4.8,3.4,1.9,0.2]|    0|       0.0|\n",
      "|[4.9,3.1,1.5,0.2]|    0|       0.0|\n",
      "|[5.0,3.4,1.5,0.2]|    0|       0.0|\n",
      "|[5.5,3.5,1.3,0.2]|    0|       0.0|\n",
      "|[5.7,4.4,1.5,0.4]|    0|       0.0|\n",
      "|[4.9,2.4,3.3,1.0]|    1|       2.0|\n",
      "|[4.9,3.6,1.4,0.1]|    0|       0.0|\n",
      "+-----------------+-----+----------+\n",
      "only showing top 10 rows\n",
      "\n"
     ]
    }
   ],
   "source": [
    "predictions = model.transform(test)\n",
    "predictions.show(10)"
   ]
  },
  {
   "cell_type": "code",
   "execution_count": 142,
   "id": "governing-nitrogen",
   "metadata": {},
   "outputs": [
    {
     "name": "stdout",
     "output_type": "stream",
     "text": [
      "+-----------------+-----+----------+\n",
      "|         features|label|prediction|\n",
      "+-----------------+-----+----------+\n",
      "|[4.4,2.9,1.4,0.2]|    0|       0.0|\n",
      "|[4.6,3.4,1.4,0.3]|    0|       0.0|\n",
      "|[4.7,3.2,1.6,0.2]|    0|       0.0|\n",
      "|[4.8,3.4,1.9,0.2]|    0|       0.0|\n",
      "|[4.9,3.1,1.5,0.2]|    0|       0.0|\n",
      "|[5.0,3.4,1.5,0.2]|    0|       0.0|\n",
      "|[5.5,3.5,1.3,0.2]|    0|       0.0|\n",
      "|[5.7,4.4,1.5,0.4]|    0|       0.0|\n",
      "|[4.9,2.4,3.3,1.0]|    1|       2.0|\n",
      "|[4.9,3.6,1.4,0.1]|    0|       0.0|\n",
      "+-----------------+-----+----------+\n",
      "only showing top 10 rows\n",
      "\n"
     ]
    }
   ],
   "source": [
    "\n",
    "evaluator = MulticlassClassificationEvaluator(\n",
    "    labelCol=\"indexedLabel\", predictionCol=\"prediction\", metricName=\"accuracy\")\n",
    "accuracy = evaluator.evaluate(predictions)\n",
    "print(\"Test Error = %g\" % (1.0 - accuracy))"
   ]
  },
  {
   "cell_type": "code",
   "execution_count": null,
   "id": "dietary-german",
   "metadata": {},
   "outputs": [],
   "source": []
  }
 ],
 "metadata": {
  "kernelspec": {
   "display_name": "ml_study",
   "language": "python",
   "name": "ml_study-mpxukohs"
  },
  "language_info": {
   "codemirror_mode": {
    "name": "ipython",
    "version": 3
   },
   "file_extension": ".py",
   "mimetype": "text/x-python",
   "name": "python",
   "nbconvert_exporter": "python",
   "pygments_lexer": "ipython3",
   "version": "3.8.5"
  }
 },
 "nbformat": 4,
 "nbformat_minor": 5
}
