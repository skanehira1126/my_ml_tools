{
 "cells": [
  {
   "cell_type": "code",
   "execution_count": 1,
   "id": "excessive-mailman",
   "metadata": {},
   "outputs": [],
   "source": [
    "import sys\n",
    "sys.path.append(\"../code\")\n",
    "\n",
    "import numpy as np\n",
    "import pandas as pd\n",
    "import matplotlib.pyplot as plt\n",
    "import seaborn as sns\n",
    "from pprint import pprint\n",
    "from pathlib import Path\n",
    "\n",
    "from tqdm.notebook import tqdm\n",
    "\n",
    "from sklearn.model_selection import KFold, StratifiedKFold\n",
    "from sklearn.model_selection import train_test_split\n",
    "from sklearn.model_selection import GridSearchCV\n",
    "from sklearn.metrics import roc_auc_score, roc_curve, f1_score, log_loss, mean_squared_error\n",
    "from sklearn.metrics import confusion_matrix, classification_report\n",
    "\n",
    "from sklearn.preprocessing import LabelEncoder\n",
    "from sklearn.preprocessing import MinMaxScaler\n",
    "\n",
    "from IPython.display import display\n",
    "\n",
    "\n",
    "sns.set_style(\"darkgrid\")\n",
    "sns.set_context(\"paper\", font_scale=1.5)\n",
    "\n",
    "pd.set_option('display.max_columns', 100)\n",
    "pd.set_option('display.max_rows', 100)"
   ]
  },
  {
   "cell_type": "markdown",
   "id": "oriental-spoke",
   "metadata": {},
   "source": [
    "### target encoding\n"
   ]
  },
  {
   "cell_type": "code",
   "execution_count": null,
   "id": "technical-victor",
   "metadata": {},
   "outputs": [],
   "source": [
    "n_split = 10\n",
    "target_col = \"municipalities_name_category\"\n",
    "\n",
    "kfold = KFold(n_splits=n_split, shuffle=True)\n",
    "\n",
    "mean_col = f\"target_enc_of_{target_col}_{n_split}folds\"\n",
    "train[mean_col] = np.nan\n",
    "\n",
    "for desc_idx, target_idx in kfold.split(train):\n",
    "    desc_data = train.iloc[desc_idx]\n",
    "    encoder_map = desc_data.groupby([target_col]).mean()[label].to_dict()\n",
    "    \n",
    "    train.loc[encoded_data.index[target_idx], mean_col] = \\\n",
    "        train.loc[encoded_data.index[target_idx], target_col].map(lambda x : encoder_map.get(x))"
   ]
  },
  {
   "cell_type": "markdown",
   "id": "rising-renewal",
   "metadata": {},
   "source": [
    "### null importance\n"
   ]
  },
  {
   "cell_type": "code",
   "execution_count": 2,
   "id": "ancient-paintball",
   "metadata": {},
   "outputs": [],
   "source": [
    "def get_null_importace(x:pd.DataFrame, y:pd.DataFrame\n",
    "                       , tree_model, params:dict, shuffule:bool=False):\n",
    "    if shuffule:\n",
    "        target = np.random.permutation(y.copy())\n",
    "    else :\n",
    "        target = y.copy()\n",
    "        \n",
    "    learning_param = params.copy()\n",
    "    \n",
    "    #モデルの作成\n",
    "    tree_clf = tree_model(\n",
    "        name=f\"temp\"\n",
    "        , params=params\n",
    "    )\n",
    "\n",
    "    tree_clf.train(\n",
    "        tr_x=x\n",
    "        , tr_y=target\n",
    "    )\n",
    "    \n",
    "    fi = tree_clf.feature_importance()\n",
    "    \n",
    "    return fi"
   ]
  },
  {
   "cell_type": "code",
   "execution_count": null,
   "id": "dominant-natural",
   "metadata": {},
   "outputs": [],
   "source": [
    "n_trials = 1000\n",
    "base_fi = get_null_importace(train[feature_columns], y=train[label]\n",
    "                             , tree_model=ModelXgb, params=XGB_PARAMS, shuffule=False)\n",
    "\n",
    "null_imp_result = base_fi.copy()\n",
    "null_imp_result.columns = [\"feature_name\", \"base\"]\n",
    "\n",
    "for idx in tqdm(range(n_trials)):\n",
    "    null_fi = get_null_importace(train[feature_columns], y=train[label]\n",
    "                             , tree_model=ModelXgb, params=XGB_PARAMS, shuffule=True)\n",
    "    \n",
    "    null_fi.columns = [\"feature_name\", f\"null_imp_{idx}\"]\n",
    "    \n",
    "    null_imp_result = null_imp_result.merge(null_fi, on=\"feature_name\")"
   ]
  },
  {
   "cell_type": "code",
   "execution_count": null,
   "id": "billion-sunday",
   "metadata": {},
   "outputs": [],
   "source": [
    "th = 0.8\n",
    "n_features = len(null_imp_result)\n",
    "null_importance_columns = [f\"null_imp_{idx}\" for idx in range(n_trials)]\n",
    "\n",
    "null_imp_result[\"th_importance\"] = null_imp_result.iloc[:, 2:].quantile(th, axis=1)\n",
    "\n",
    "null_imp_result = null_imp_result.sort_values(\"base\", ascending=False)"
   ]
  },
  {
   "cell_type": "code",
   "execution_count": null,
   "id": "diverse-serum",
   "metadata": {},
   "outputs": [],
   "source": [
    "effective_columns = null_imp_result[null_imp_result[\"base\"] >= null_imp_result[\"th_importance\"]][\"feature_name\"].values\n",
    "not_effective_columns = null_imp_result[null_imp_result[\"base\"] < null_imp_result[\"th_importance\"]][\"feature_name\"].values\n",
    "\n",
    "if n_features <= 4:\n",
    "    fig, axs = plt.subplots(nrows=1, ncols=n_features, figsize=(n_features*6, 6))\n",
    "    if n_features == 1:\n",
    "        axs = np.array([ax])\n",
    "else :\n",
    "    nrows = int(n_features // 4) + int(n_features % 4 > 1)\n",
    "    fig, axs = plt.subplots(nrows=nrows, ncols=4, figsize=(4*6, nrows*6))\n",
    "\n",
    "axs = axs.flatten()\n",
    "\n",
    "for idx, ax in enumerate(axs):\n",
    "    if idx == n_features:\n",
    "        break\n",
    "    target_row = null_imp_result.iloc[idx]\n",
    "    hist_val = ax.hist(target_row[null_importance_columns], color=\"darkorange\", label=\"null importance\")[0]\n",
    "    ax.vlines(target_row[\"th_importance\"], 0, max(hist_val), color=\"red\", linestyle=\"--\", label=\"threthold\")\n",
    "    #baseline\n",
    "    ax.vlines(target_row[\"base\"], 0, max(hist_val), color=\"blue\", label=\"base line\")\n",
    "    \n",
    "    #labels\n",
    "    ax.set_xlabel(\"Feature importance\")\n",
    "    ax.set_ylabel(\"Frequency\")\n",
    "    ax.set_title(target_row[\"feature_name\"])\n",
    "    \n",
    "\n",
    "plt.tight_layout()\n",
    "plt.show()\n",
    "plt.close()"
   ]
  }
 ],
 "metadata": {
  "kernelspec": {
   "display_name": "ml_study",
   "language": "python",
   "name": "ml_study-mpxukohs"
  },
  "language_info": {
   "codemirror_mode": {
    "name": "ipython",
    "version": 3
   },
   "file_extension": ".py",
   "mimetype": "text/x-python",
   "name": "python",
   "nbconvert_exporter": "python",
   "pygments_lexer": "ipython3",
   "version": "3.8.7"
  }
 },
 "nbformat": 4,
 "nbformat_minor": 5
}
