{
 "cells": [
  {
   "cell_type": "code",
   "execution_count": 2,
   "id": "integral-renaissance",
   "metadata": {},
   "outputs": [],
   "source": [
    "import numpy as np\n",
    "import pandas as pd"
   ]
  },
  {
   "cell_type": "code",
   "execution_count": 3,
   "id": "outside-gasoline",
   "metadata": {},
   "outputs": [],
   "source": [
    "import matplotlib.pyplot as plt"
   ]
  },
  {
   "cell_type": "markdown",
   "id": "furnished-cooper",
   "metadata": {},
   "source": [
    "### Confusion matrix"
   ]
  },
  {
   "cell_type": "code",
   "execution_count": 143,
   "id": "continent-zambia",
   "metadata": {
    "scrolled": false
   },
   "outputs": [
    {
     "name": "stdout",
     "output_type": "stream",
     "text": [
      "[[36 28 46]\n",
      " [ 6 24 83]\n",
      " [88 31 93]]\n"
     ]
    }
   ],
   "source": [
    "from itertools import product\n",
    "\n",
    "def show_confusion_matrix(cm:np.ndarray, cmap:str=\"Greens\", text_color:tuple=(\"black\", \"white\")\n",
    "                          , figsize:tuple=(12, 8), fontsize:int=12) -> None:\n",
    "    \"\"\"\n",
    "    Confusion matrixの描画\n",
    "    \n",
    "    Parameters\n",
    "    -----\n",
    "    cm : array like(2-d)\n",
    "        Confusion matrix\n",
    "    cmap : str (default : 'Greens')\n",
    "        cmap\n",
    "    text_color : tuple of str (default : ('white', 'black'))\n",
    "        text colors\n",
    "    figsize : tuple of int (default : (12, 8))\n",
    "        figsize of heat map of comfusion matrix \n",
    "    fontsize : int (default : 12)\n",
    "        fontsize of text\n",
    "    \"\"\"\n",
    "    if isinstance(cm, list):\n",
    "        cm = np.array(cm)\n",
    "    \n",
    "    if cm.shape[0] == cm.shape[1]:\n",
    "        n_class = cm.shape[0]\n",
    "    else:\n",
    "        raise ValueError(f\"Invalid confusion matrix. shape : {cm.shape}\")\n",
    "    \n",
    "    fig, ax = plt.subplots(figsize=figsize)\n",
    "\n",
    "    im = ax.imshow(cm, cmap=cmap)\n",
    "    th = im.norm(cm.max())/2\n",
    "    for i, j in product(range(3), range(3)):\n",
    "        color= text_color[int(im.norm(cm[i, j]) > th)]\n",
    "        plt.text(j, i, str(cm[i, j])\n",
    "             , horizontalalignment=\"center\"\n",
    "             , verticalalignment=\"center\"\n",
    "             , color=color\n",
    "            , fontsize=fontsize\n",
    "        )\n",
    "\n",
    "    cbar = fig.colorbar(im)\n",
    "    cbar.ax.set_ylabel(\"Frequency\", rotation=-90, va=\"bottom\", fontsize=fontsize)\n",
    "\n",
    "    ax.tick_params(top=True, bottom=False,\n",
    "                       labeltop=True, labelbottom=False)\n",
    "    ax.xaxis.set_label_position(\"top\")\n",
    "    ax.set_xticks([0, 1, 2])\n",
    "    ax.set_xticklabels([0, 1, 2])\n",
    "    ax.set_yticks([0, 1, 2])\n",
    "    ax.set_yticklabels([0, 1, 2], fontsize=fontsize)\n",
    "    ax.set_xlabel(\"Predict Label\", fontsize=fontsize)\n",
    "    ax.set_ylabel(\"True Label\", fontsize=fontsize)\n",
    "    fig.tight_layout()\n",
    "    plt.show()\n",
    "    plt.close()"
   ]
  },
  {
   "cell_type": "code",
   "execution_count": 145,
   "id": "interested-roller",
   "metadata": {},
   "outputs": [],
   "source": [
    "n_class = 3\n",
    "\n",
    "demo_data = np.random.randint(0, 100, size=(n_class, n_class))\n",
    "\n",
    "cm = demo_data\n",
    "\n",
    "show_confusion_matrix(cm)"
   ]
  },
  {
   "cell_type": "code",
   "execution_count": 146,
   "id": "grateful-cooling",
   "metadata": {},
   "outputs": [
    {
     "data": {
      "image/png": "[encoded data removed]",
      "text/plain": [
       "<Figure size 864x576 with 2 Axes>"
      ]
     },
     "metadata": {
      "needs_background": "light"
     },
     "output_type": "display_data"
    }
   ],
   "source": []
  },
  {
   "cell_type": "code",
   "execution_count": null,
   "id": "ideal-music",
   "metadata": {},
   "outputs": [],
   "source": []
  }
 ],
 "metadata": {
  "kernelspec": {
   "display_name": "ml_study",
   "language": "python",
   "name": "ml_study-mpxukohs"
  },
  "language_info": {
   "codemirror_mode": {
    "name": "ipython",
    "version": 3
   },
   "file_extension": ".py",
   "mimetype": "text/x-python",
   "name": "python",
   "nbconvert_exporter": "python",
   "pygments_lexer": "ipython3",
   "version": "3.8.7"
  }
 },
 "nbformat": 4,
 "nbformat_minor": 5
}
