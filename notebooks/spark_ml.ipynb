{
 "cells": [
  {
   "cell_type": "markdown",
   "id": "cubic-travel",
   "metadata": {},
   "source": [
    "# sparkで機械学習がしたい\n",
    "http://mogile.web.fc2.com/spark/ml-classification-regression.html"
   ]
  },
  {
   "cell_type": "code",
   "execution_count": 1,
   "id": "abroad-atlantic",
   "metadata": {},
   "outputs": [],
   "source": [
    "import sys\n",
    "\n",
    "import numpy as np\n",
    "import pandas as pd\n",
    "import matplotlib.pyplot as plt\n",
    "import seaborn as sns\n",
    "\n",
    "from sklearn.datasets import load_iris\n",
    "from sklearn.model_selection import KFold, StratifiedKFold\n",
    "from sklearn.model_selection import GridSearchCV\n",
    "from sklearn.metrics import roc_auc_score, roc_curve\n",
    "from sklearn.metrics import confusion_matrix, classification_report\n",
    "\n",
    "from IPython.display import display"
   ]
  },
  {
   "cell_type": "code",
   "execution_count": 2,
   "id": "convertible-valley",
   "metadata": {},
   "outputs": [
    {
     "name": "stdout",
     "output_type": "stream",
     "text": [
      "dict_keys(['data', 'target', 'frame', 'target_names', 'DESCR', 'feature_names', 'filename'])\n"
     ]
    },
    {
     "data": {
      "text/html": [
       "<div>\n",
       "<style scoped>\n",
       "    .dataframe tbody tr th:only-of-type {\n",
       "        vertical-align: middle;\n",
       "    }\n",
       "\n",
       "    .dataframe tbody tr th {\n",
       "        vertical-align: top;\n",
       "    }\n",
       "\n",
       "    .dataframe thead th {\n",
       "        text-align: right;\n",
       "    }\n",
       "</style>\n",
       "<table border=\"1\" class=\"dataframe\">\n",
       "  <thead>\n",
       "    <tr style=\"text-align: right;\">\n",
       "      <th></th>\n",
       "      <th>sepal length (cm)</th>\n",
       "      <th>sepal width (cm)</th>\n",
       "      <th>petal length (cm)</th>\n",
       "      <th>petal width (cm)</th>\n",
       "    </tr>\n",
       "  </thead>\n",
       "  <tbody>\n",
       "    <tr>\n",
       "      <th>0</th>\n",
       "      <td>5.1</td>\n",
       "      <td>3.5</td>\n",
       "      <td>1.4</td>\n",
       "      <td>0.2</td>\n",
       "    </tr>\n",
       "    <tr>\n",
       "      <th>1</th>\n",
       "      <td>4.9</td>\n",
       "      <td>3.0</td>\n",
       "      <td>1.4</td>\n",
       "      <td>0.2</td>\n",
       "    </tr>\n",
       "    <tr>\n",
       "      <th>2</th>\n",
       "      <td>4.7</td>\n",
       "      <td>3.2</td>\n",
       "      <td>1.3</td>\n",
       "      <td>0.2</td>\n",
       "    </tr>\n",
       "    <tr>\n",
       "      <th>3</th>\n",
       "      <td>4.6</td>\n",
       "      <td>3.1</td>\n",
       "      <td>1.5</td>\n",
       "      <td>0.2</td>\n",
       "    </tr>\n",
       "    <tr>\n",
       "      <th>4</th>\n",
       "      <td>5.0</td>\n",
       "      <td>3.6</td>\n",
       "      <td>1.4</td>\n",
       "      <td>0.2</td>\n",
       "    </tr>\n",
       "  </tbody>\n",
       "</table>\n",
       "</div>"
      ],
      "text/plain": [
       "   sepal length (cm)  sepal width (cm)  petal length (cm)  petal width (cm)\n",
       "0                5.1               3.5                1.4               0.2\n",
       "1                4.9               3.0                1.4               0.2\n",
       "2                4.7               3.2                1.3               0.2\n",
       "3                4.6               3.1                1.5               0.2\n",
       "4                5.0               3.6                1.4               0.2"
      ]
     },
     "metadata": {},
     "output_type": "display_data"
    },
    {
     "name": "stdout",
     "output_type": "stream",
     "text": [
      "(150, 4)\n",
      "0    50\n",
      "1    50\n",
      "2    50\n",
      "Name: target, dtype: int64\n"
     ]
    }
   ],
   "source": [
    "data_iris_all = load_iris(as_frame=True)\n",
    "\n",
    "data_iris = data_iris_all[\"data\"]\n",
    "target_iris = data_iris_all[\"target\"]\n",
    "target_label_iris = data_iris_all[\"target_names\"]\n",
    "frame_iris = data_iris_all[\"frame\"]\n",
    "\n",
    "print(data_iris_all.keys())\n",
    "display(data_iris.head())\n",
    "print(data_iris.shape)\n",
    "print(target_iris.value_counts())"
   ]
  },
  {
   "cell_type": "code",
   "execution_count": 3,
   "id": "coastal-promotion",
   "metadata": {},
   "outputs": [
    {
     "data": {
      "text/html": [
       "<div>\n",
       "<style scoped>\n",
       "    .dataframe tbody tr th:only-of-type {\n",
       "        vertical-align: middle;\n",
       "    }\n",
       "\n",
       "    .dataframe tbody tr th {\n",
       "        vertical-align: top;\n",
       "    }\n",
       "\n",
       "    .dataframe thead th {\n",
       "        text-align: right;\n",
       "    }\n",
       "</style>\n",
       "<table border=\"1\" class=\"dataframe\">\n",
       "  <thead>\n",
       "    <tr style=\"text-align: right;\">\n",
       "      <th></th>\n",
       "      <th>sepal length (cm)</th>\n",
       "      <th>sepal width (cm)</th>\n",
       "      <th>petal length (cm)</th>\n",
       "      <th>petal width (cm)</th>\n",
       "      <th>target</th>\n",
       "    </tr>\n",
       "  </thead>\n",
       "  <tbody>\n",
       "    <tr>\n",
       "      <th>0</th>\n",
       "      <td>5.1</td>\n",
       "      <td>3.5</td>\n",
       "      <td>1.4</td>\n",
       "      <td>0.2</td>\n",
       "      <td>0</td>\n",
       "    </tr>\n",
       "    <tr>\n",
       "      <th>1</th>\n",
       "      <td>4.9</td>\n",
       "      <td>3.0</td>\n",
       "      <td>1.4</td>\n",
       "      <td>0.2</td>\n",
       "      <td>0</td>\n",
       "    </tr>\n",
       "    <tr>\n",
       "      <th>2</th>\n",
       "      <td>4.7</td>\n",
       "      <td>3.2</td>\n",
       "      <td>1.3</td>\n",
       "      <td>0.2</td>\n",
       "      <td>0</td>\n",
       "    </tr>\n",
       "    <tr>\n",
       "      <th>3</th>\n",
       "      <td>4.6</td>\n",
       "      <td>3.1</td>\n",
       "      <td>1.5</td>\n",
       "      <td>0.2</td>\n",
       "      <td>0</td>\n",
       "    </tr>\n",
       "    <tr>\n",
       "      <th>4</th>\n",
       "      <td>5.0</td>\n",
       "      <td>3.6</td>\n",
       "      <td>1.4</td>\n",
       "      <td>0.2</td>\n",
       "      <td>0</td>\n",
       "    </tr>\n",
       "  </tbody>\n",
       "</table>\n",
       "</div>"
      ],
      "text/plain": [
       "   sepal length (cm)  sepal width (cm)  petal length (cm)  petal width (cm)  \\\n",
       "0                5.1               3.5                1.4               0.2   \n",
       "1                4.9               3.0                1.4               0.2   \n",
       "2                4.7               3.2                1.3               0.2   \n",
       "3                4.6               3.1                1.5               0.2   \n",
       "4                5.0               3.6                1.4               0.2   \n",
       "\n",
       "   target  \n",
       "0       0  \n",
       "1       0  \n",
       "2       0  \n",
       "3       0  \n",
       "4       0  "
      ]
     },
     "metadata": {},
     "output_type": "display_data"
    },
    {
     "name": "stdout",
     "output_type": "stream",
     "text": [
      "<class 'pandas.core.frame.DataFrame'>\n",
      "RangeIndex: 150 entries, 0 to 149\n",
      "Data columns (total 5 columns):\n",
      " #   Column             Non-Null Count  Dtype  \n",
      "---  ------             --------------  -----  \n",
      " 0   sepal length (cm)  150 non-null    float64\n",
      " 1   sepal width (cm)   150 non-null    float64\n",
      " 2   petal length (cm)  150 non-null    float64\n",
      " 3   petal width (cm)   150 non-null    float64\n",
      " 4   target             150 non-null    int64  \n",
      "dtypes: float64(4), int64(1)\n",
      "memory usage: 6.0 KB\n"
     ]
    },
    {
     "data": {
      "text/plain": [
       "None"
      ]
     },
     "metadata": {},
     "output_type": "display_data"
    }
   ],
   "source": [
    "display(frame_iris.head())\n",
    "display(frame_iris.info())"
   ]
  },
  {
   "cell_type": "markdown",
   "id": "seven-highway",
   "metadata": {},
   "source": [
    "### Sparkのセッションを起動\n",
    "javaが必要"
   ]
  },
  {
   "cell_type": "code",
   "execution_count": 4,
   "id": "tender-cyprus",
   "metadata": {},
   "outputs": [
    {
     "data": {
      "text/html": [
       "\n",
       "            <div>\n",
       "                <p><b>SparkSession - in-memory</b></p>\n",
       "                \n",
       "        <div>\n",
       "            <p><b>SparkContext</b></p>\n",
       "\n",
       "            <p><a href=\"http://192.168.11.4:4040\">Spark UI</a></p>\n",
       "\n",
       "            <dl>\n",
       "              <dt>Version</dt>\n",
       "                <dd><code>v3.1.1</code></dd>\n",
       "              <dt>Master</dt>\n",
       "                <dd><code>local[*]</code></dd>\n",
       "              <dt>AppName</dt>\n",
       "                <dd><code>pyspark-notebook</code></dd>\n",
       "            </dl>\n",
       "        </div>\n",
       "        \n",
       "            </div>\n",
       "        "
      ],
      "text/plain": [
       "<pyspark.sql.session.SparkSession at 0x122918370>"
      ]
     },
     "execution_count": 4,
     "metadata": {},
     "output_type": "execute_result"
    }
   ],
   "source": [
    "from pyspark.sql import SparkSession\n",
    "# セッションを開く\n",
    "try:\n",
    "    #spark.stop()\n",
    "    pass\n",
    "except NameError:\n",
    "    pass\n",
    "\n",
    "spark = SparkSession.builder.appName(\"pyspark-notebook\").master(master=\"local[*]\").getOrCreate()\n",
    "spark"
   ]
  },
  {
   "cell_type": "code",
   "execution_count": 5,
   "id": "instructional-marijuana",
   "metadata": {},
   "outputs": [
    {
     "name": "stdout",
     "output_type": "stream",
     "text": [
      "Python version : 3.8.5 (default, Jul 21 2020, 10:48:26) \n",
      "[Clang 11.0.3 (clang-1103.0.32.62)]\n",
      "Spark version : 3.1.1\n"
     ]
    }
   ],
   "source": [
    "\"\"\"\n",
    "バージョン確認\n",
    "\"\"\"\n",
    "print (f\"Python version : {sys.version}\")\n",
    "print (f\"Spark version : {spark.version}\")\n",
    "\n"
   ]
  },
  {
   "cell_type": "code",
   "execution_count": 6,
   "id": "amended-intranet",
   "metadata": {},
   "outputs": [],
   "source": [
    "import pyspark.sql.functions as F\n",
    "from pyspark.ml import Pipeline\n",
    "from pyspark.ml.feature import StringIndexer\n",
    "from pyspark.ml.feature import VectorAssembler, VectorIndexer"
   ]
  },
  {
   "cell_type": "code",
   "execution_count": 7,
   "id": "furnished-column",
   "metadata": {},
   "outputs": [],
   "source": [
    "#データの読み込み（pandasのDataFrameより）\n",
    "spark_data = spark.createDataFrame(frame_iris)\n",
    "\n",
    "columns = spark_data.columns"
   ]
  },
  {
   "cell_type": "code",
   "execution_count": 8,
   "id": "native-tanzania",
   "metadata": {},
   "outputs": [
    {
     "name": "stdout",
     "output_type": "stream",
     "text": [
      "columns :  ['sepal length (cm)', 'sepal width (cm)', 'petal length (cm)', 'petal width (cm)', 'target']\n",
      "rows :  150\n",
      "+-----------------+----------------+-----------------+----------------+------+\n",
      "|sepal length (cm)|sepal width (cm)|petal length (cm)|petal width (cm)|target|\n",
      "+-----------------+----------------+-----------------+----------------+------+\n",
      "|              5.1|             3.5|              1.4|             0.2|     0|\n",
      "|              4.9|             3.0|              1.4|             0.2|     0|\n",
      "|              4.7|             3.2|              1.3|             0.2|     0|\n",
      "|              4.6|             3.1|              1.5|             0.2|     0|\n",
      "|              5.0|             3.6|              1.4|             0.2|     0|\n",
      "|              5.4|             3.9|              1.7|             0.4|     0|\n",
      "|              4.6|             3.4|              1.4|             0.3|     0|\n",
      "|              5.0|             3.4|              1.5|             0.2|     0|\n",
      "|              4.4|             2.9|              1.4|             0.2|     0|\n",
      "|              4.9|             3.1|              1.5|             0.1|     0|\n",
      "+-----------------+----------------+-----------------+----------------+------+\n",
      "only showing top 10 rows\n",
      "\n"
     ]
    }
   ],
   "source": [
    "print(\"columns : \", spark_data.columns)\n",
    "print(\"rows : \", spark_data.count())\n",
    "spark_data.show(10)"
   ]
  },
  {
   "cell_type": "code",
   "execution_count": 9,
   "id": "civilian-gallery",
   "metadata": {},
   "outputs": [
    {
     "name": "stdout",
     "output_type": "stream",
     "text": [
      "columns :  ['sepal length (cm)', 'sepal width (cm)', 'petal length (cm)', 'petal width (cm)', 'target', 'features']\n",
      "rows :  150\n",
      "+-----------------+----------------+-----------------+----------------+------+-----------------+\n",
      "|sepal length (cm)|sepal width (cm)|petal length (cm)|petal width (cm)|target|         features|\n",
      "+-----------------+----------------+-----------------+----------------+------+-----------------+\n",
      "|              5.1|             3.5|              1.4|             0.2|     0|[5.1,3.5,1.4,0.2]|\n",
      "|              4.9|             3.0|              1.4|             0.2|     0|[4.9,3.0,1.4,0.2]|\n",
      "|              4.7|             3.2|              1.3|             0.2|     0|[4.7,3.2,1.3,0.2]|\n",
      "|              4.6|             3.1|              1.5|             0.2|     0|[4.6,3.1,1.5,0.2]|\n",
      "|              5.0|             3.6|              1.4|             0.2|     0|[5.0,3.6,1.4,0.2]|\n",
      "|              5.4|             3.9|              1.7|             0.4|     0|[5.4,3.9,1.7,0.4]|\n",
      "|              4.6|             3.4|              1.4|             0.3|     0|[4.6,3.4,1.4,0.3]|\n",
      "|              5.0|             3.4|              1.5|             0.2|     0|[5.0,3.4,1.5,0.2]|\n",
      "|              4.4|             2.9|              1.4|             0.2|     0|[4.4,2.9,1.4,0.2]|\n",
      "|              4.9|             3.1|              1.5|             0.1|     0|[4.9,3.1,1.5,0.1]|\n",
      "+-----------------+----------------+-----------------+----------------+------+-----------------+\n",
      "only showing top 10 rows\n",
      "\n"
     ]
    }
   ],
   "source": [
    "\"\"\"\n",
    "特徴量をまとめる\n",
    "\"\"\"\n",
    "feature_cols = columns[:-1]\n",
    "assembler = VectorAssembler(inputCols=feature_cols, outputCol=\"features\")\n",
    "spark_data_2 = assembler.transform(spark_data)\n",
    "\n",
    "print(\"columns : \", spark_data_2.columns)\n",
    "print(\"rows : \", spark_data_2.count())\n",
    "spark_data_2.show(10)"
   ]
  },
  {
   "cell_type": "code",
   "execution_count": 10,
   "id": "naked-bullet",
   "metadata": {},
   "outputs": [
    {
     "name": "stdout",
     "output_type": "stream",
     "text": [
      "+-----------------+-----+\n",
      "|         features|label|\n",
      "+-----------------+-----+\n",
      "|[5.1,3.5,1.4,0.2]|    0|\n",
      "|[4.9,3.0,1.4,0.2]|    0|\n",
      "|[4.7,3.2,1.3,0.2]|    0|\n",
      "|[4.6,3.1,1.5,0.2]|    0|\n",
      "|[5.0,3.6,1.4,0.2]|    0|\n",
      "|[5.4,3.9,1.7,0.4]|    0|\n",
      "|[4.6,3.4,1.4,0.3]|    0|\n",
      "|[5.0,3.4,1.5,0.2]|    0|\n",
      "|[4.4,2.9,1.4,0.2]|    0|\n",
      "|[4.9,3.1,1.5,0.1]|    0|\n",
      "+-----------------+-----+\n",
      "only showing top 10 rows\n",
      "\n"
     ]
    }
   ],
   "source": [
    "\"\"\"\n",
    "学習用データの作成\n",
    "pysparkのlabelColのデフォルトが'label'なので変更しておく\n",
    "\"\"\"\n",
    "learning_data = spark_data_2.select(\"features\", F.col(\"target\").alias(\"label\"))\n",
    "learning_data.show(10)\n",
    "\n",
    "train, test = learning_data.randomSplit([0.8, 0.2], seed=10)"
   ]
  },
  {
   "cell_type": "code",
   "execution_count": 11,
   "id": "cloudy-capability",
   "metadata": {},
   "outputs": [],
   "source": [
    "from pyspark.ml.classification import GBTClassifier, RandomForestClassifier\n",
    "from pyspark.ml.regression import GBTRegressor\n",
    "from pyspark.ml.evaluation import BinaryClassificationEvaluator, MulticlassClassificationEvaluator\n",
    "from pyspark.ml.tuning import CrossValidator, ParamGridBuilder"
   ]
  },
  {
   "cell_type": "markdown",
   "id": "valid-insertion",
   "metadata": {},
   "source": [
    "#### ランダムフォレスト"
   ]
  },
  {
   "cell_type": "code",
   "execution_count": 12,
   "id": "enormous-blind",
   "metadata": {},
   "outputs": [],
   "source": [
    "rf = RandomForestClassifier(\n",
    "    featuresCol=\"features\"\n",
    "    , labelCol=\"label\"\n",
    "    , numTrees=10\n",
    ")\n",
    "\n",
    "model = rf.fit(train)"
   ]
  },
  {
   "cell_type": "code",
   "execution_count": 13,
   "id": "fatal-inclusion",
   "metadata": {},
   "outputs": [
    {
     "data": {
      "text/html": [
       "<div>\n",
       "<style scoped>\n",
       "    .dataframe tbody tr th:only-of-type {\n",
       "        vertical-align: middle;\n",
       "    }\n",
       "\n",
       "    .dataframe tbody tr th {\n",
       "        vertical-align: top;\n",
       "    }\n",
       "\n",
       "    .dataframe thead th {\n",
       "        text-align: right;\n",
       "    }\n",
       "</style>\n",
       "<table border=\"1\" class=\"dataframe\">\n",
       "  <thead>\n",
       "    <tr style=\"text-align: right;\">\n",
       "      <th></th>\n",
       "      <th>features</th>\n",
       "      <th>label</th>\n",
       "      <th>rawPrediction</th>\n",
       "      <th>probability</th>\n",
       "      <th>prediction</th>\n",
       "    </tr>\n",
       "  </thead>\n",
       "  <tbody>\n",
       "    <tr>\n",
       "      <th>5</th>\n",
       "      <td>[5.0, 3.4, 1.5, 0.2]</td>\n",
       "      <td>0</td>\n",
       "      <td>[10.0, 0.0, 0.0]</td>\n",
       "      <td>[1.0, 0.0, 0.0]</td>\n",
       "      <td>0.0</td>\n",
       "    </tr>\n",
       "    <tr>\n",
       "      <th>16</th>\n",
       "      <td>[6.1, 2.9, 4.7, 1.4]</td>\n",
       "      <td>1</td>\n",
       "      <td>[0.0, 9.977272727272727, 0.022727272727272728]</td>\n",
       "      <td>[0.0, 0.9977272727272727, 0.0022727272727272726]</td>\n",
       "      <td>1.0</td>\n",
       "    </tr>\n",
       "    <tr>\n",
       "      <th>20</th>\n",
       "      <td>[5.5, 2.6, 4.4, 1.2]</td>\n",
       "      <td>1</td>\n",
       "      <td>[0.0, 9.977272727272727, 0.022727272727272728]</td>\n",
       "      <td>[0.0, 0.9977272727272727, 0.0022727272727272726]</td>\n",
       "      <td>1.0</td>\n",
       "    </tr>\n",
       "    <tr>\n",
       "      <th>24</th>\n",
       "      <td>[6.5, 3.2, 5.1, 2.0]</td>\n",
       "      <td>2</td>\n",
       "      <td>[0.0, 0.02702702702702703, 9.972972972972972]</td>\n",
       "      <td>[0.0, 0.0027027027027027033, 0.9972972972972973]</td>\n",
       "      <td>2.0</td>\n",
       "    </tr>\n",
       "    <tr>\n",
       "      <th>27</th>\n",
       "      <td>[6.0, 2.2, 5.0, 1.5]</td>\n",
       "      <td>2</td>\n",
       "      <td>[0.0, 6.9772727272727275, 3.0227272727272725]</td>\n",
       "      <td>[0.0, 0.6977272727272728, 0.30227272727272725]</td>\n",
       "      <td>1.0</td>\n",
       "    </tr>\n",
       "    <tr>\n",
       "      <th>17</th>\n",
       "      <td>[6.3, 2.5, 4.9, 1.5]</td>\n",
       "      <td>1</td>\n",
       "      <td>[0.0, 6.9772727272727275, 3.022727272727273]</td>\n",
       "      <td>[0.0, 0.6977272727272728, 0.3022727272727273]</td>\n",
       "      <td>1.0</td>\n",
       "    </tr>\n",
       "    <tr>\n",
       "      <th>19</th>\n",
       "      <td>[5.0, 2.3, 3.3, 1.0]</td>\n",
       "      <td>1</td>\n",
       "      <td>[0.0, 9.977272727272727, 0.022727272727272728]</td>\n",
       "      <td>[0.0, 0.9977272727272727, 0.0022727272727272726]</td>\n",
       "      <td>1.0</td>\n",
       "    </tr>\n",
       "    <tr>\n",
       "      <th>25</th>\n",
       "      <td>[7.1, 3.0, 5.9, 2.1]</td>\n",
       "      <td>2</td>\n",
       "      <td>[0.0, 0.02702702702702703, 9.972972972972972]</td>\n",
       "      <td>[0.0, 0.0027027027027027033, 0.9972972972972973]</td>\n",
       "      <td>2.0</td>\n",
       "    </tr>\n",
       "    <tr>\n",
       "      <th>32</th>\n",
       "      <td>[6.8, 3.2, 5.9, 2.3]</td>\n",
       "      <td>2</td>\n",
       "      <td>[0.0, 0.02702702702702703, 9.972972972972972]</td>\n",
       "      <td>[0.0, 0.0027027027027027033, 0.9972972972972973]</td>\n",
       "      <td>2.0</td>\n",
       "    </tr>\n",
       "    <tr>\n",
       "      <th>22</th>\n",
       "      <td>[6.3, 3.3, 6.0, 2.5]</td>\n",
       "      <td>2</td>\n",
       "      <td>[0.0, 0.02702702702702703, 9.972972972972972]</td>\n",
       "      <td>[0.0, 0.0027027027027027033, 0.9972972972972973]</td>\n",
       "      <td>2.0</td>\n",
       "    </tr>\n",
       "  </tbody>\n",
       "</table>\n",
       "</div>"
      ],
      "text/plain": [
       "                features  label  \\\n",
       "5   [5.0, 3.4, 1.5, 0.2]      0   \n",
       "16  [6.1, 2.9, 4.7, 1.4]      1   \n",
       "20  [5.5, 2.6, 4.4, 1.2]      1   \n",
       "24  [6.5, 3.2, 5.1, 2.0]      2   \n",
       "27  [6.0, 2.2, 5.0, 1.5]      2   \n",
       "17  [6.3, 2.5, 4.9, 1.5]      1   \n",
       "19  [5.0, 2.3, 3.3, 1.0]      1   \n",
       "25  [7.1, 3.0, 5.9, 2.1]      2   \n",
       "32  [6.8, 3.2, 5.9, 2.3]      2   \n",
       "22  [6.3, 3.3, 6.0, 2.5]      2   \n",
       "\n",
       "                                     rawPrediction  \\\n",
       "5                                 [10.0, 0.0, 0.0]   \n",
       "16  [0.0, 9.977272727272727, 0.022727272727272728]   \n",
       "20  [0.0, 9.977272727272727, 0.022727272727272728]   \n",
       "24   [0.0, 0.02702702702702703, 9.972972972972972]   \n",
       "27   [0.0, 6.9772727272727275, 3.0227272727272725]   \n",
       "17    [0.0, 6.9772727272727275, 3.022727272727273]   \n",
       "19  [0.0, 9.977272727272727, 0.022727272727272728]   \n",
       "25   [0.0, 0.02702702702702703, 9.972972972972972]   \n",
       "32   [0.0, 0.02702702702702703, 9.972972972972972]   \n",
       "22   [0.0, 0.02702702702702703, 9.972972972972972]   \n",
       "\n",
       "                                         probability  prediction  \n",
       "5                                    [1.0, 0.0, 0.0]         0.0  \n",
       "16  [0.0, 0.9977272727272727, 0.0022727272727272726]         1.0  \n",
       "20  [0.0, 0.9977272727272727, 0.0022727272727272726]         1.0  \n",
       "24  [0.0, 0.0027027027027027033, 0.9972972972972973]         2.0  \n",
       "27    [0.0, 0.6977272727272728, 0.30227272727272725]         1.0  \n",
       "17     [0.0, 0.6977272727272728, 0.3022727272727273]         1.0  \n",
       "19  [0.0, 0.9977272727272727, 0.0022727272727272726]         1.0  \n",
       "25  [0.0, 0.0027027027027027033, 0.9972972972972973]         2.0  \n",
       "32  [0.0, 0.0027027027027027033, 0.9972972972972973]         2.0  \n",
       "22  [0.0, 0.0027027027027027033, 0.9972972972972973]         2.0  "
      ]
     },
     "execution_count": 13,
     "metadata": {},
     "output_type": "execute_result"
    }
   ],
   "source": [
    "predictions = model.transform(test)\n",
    "#予測結果の確認\n",
    "predictions.toPandas().sample(10)"
   ]
  },
  {
   "cell_type": "code",
   "execution_count": 14,
   "id": "downtown-chorus",
   "metadata": {},
   "outputs": [
    {
     "name": "stdout",
     "output_type": "stream",
     "text": [
      "0.9714285714285714\n"
     ]
    }
   ],
   "source": [
    "evaluator = MulticlassClassificationEvaluator(\n",
    "    labelCol=\"label\"\n",
    "    , predictionCol=\"prediction\"\n",
    "    , metricName=\"accuracy\"\n",
    ")\n",
    "accuracy = evaluator.evaluate(predictions)\n",
    "print(accuracy)"
   ]
  },
  {
   "cell_type": "markdown",
   "id": "middle-preserve",
   "metadata": {},
   "source": [
    "#### GBDT回帰"
   ]
  },
  {
   "cell_type": "code",
   "execution_count": 15,
   "id": "sharp-bidding",
   "metadata": {},
   "outputs": [],
   "source": [
    "#とりあえずデフォルトパラメータで学習\n",
    "gbtr = GBTRegressor(\n",
    "    featuresCol=\"features\"\n",
    "    , labelCol=\"label\"\n",
    "    , maxIter=100\n",
    ")\n",
    "\n",
    "#学習\n",
    "model = gbtr.fit(train)"
   ]
  },
  {
   "cell_type": "code",
   "execution_count": 16,
   "id": "incredible-radical",
   "metadata": {},
   "outputs": [
    {
     "data": {
      "text/html": [
       "<div>\n",
       "<style scoped>\n",
       "    .dataframe tbody tr th:only-of-type {\n",
       "        vertical-align: middle;\n",
       "    }\n",
       "\n",
       "    .dataframe tbody tr th {\n",
       "        vertical-align: top;\n",
       "    }\n",
       "\n",
       "    .dataframe thead th {\n",
       "        text-align: right;\n",
       "    }\n",
       "</style>\n",
       "<table border=\"1\" class=\"dataframe\">\n",
       "  <thead>\n",
       "    <tr style=\"text-align: right;\">\n",
       "      <th></th>\n",
       "      <th>features</th>\n",
       "      <th>label</th>\n",
       "      <th>prediction</th>\n",
       "    </tr>\n",
       "  </thead>\n",
       "  <tbody>\n",
       "    <tr>\n",
       "      <th>4</th>\n",
       "      <td>[4.9, 3.1, 1.5, 0.2]</td>\n",
       "      <td>0</td>\n",
       "      <td>0.0</td>\n",
       "    </tr>\n",
       "    <tr>\n",
       "      <th>5</th>\n",
       "      <td>[5.0, 3.4, 1.5, 0.2]</td>\n",
       "      <td>0</td>\n",
       "      <td>0.0</td>\n",
       "    </tr>\n",
       "    <tr>\n",
       "      <th>34</th>\n",
       "      <td>[7.9, 3.8, 6.4, 2.0]</td>\n",
       "      <td>2</td>\n",
       "      <td>2.0</td>\n",
       "    </tr>\n",
       "    <tr>\n",
       "      <th>25</th>\n",
       "      <td>[7.1, 3.0, 5.9, 2.1]</td>\n",
       "      <td>2</td>\n",
       "      <td>2.0</td>\n",
       "    </tr>\n",
       "    <tr>\n",
       "      <th>10</th>\n",
       "      <td>[5.1, 3.8, 1.6, 0.2]</td>\n",
       "      <td>0</td>\n",
       "      <td>0.0</td>\n",
       "    </tr>\n",
       "    <tr>\n",
       "      <th>23</th>\n",
       "      <td>[6.5, 3.0, 5.8, 2.2]</td>\n",
       "      <td>2</td>\n",
       "      <td>2.0</td>\n",
       "    </tr>\n",
       "    <tr>\n",
       "      <th>28</th>\n",
       "      <td>[6.3, 2.7, 4.9, 1.8]</td>\n",
       "      <td>2</td>\n",
       "      <td>2.0</td>\n",
       "    </tr>\n",
       "    <tr>\n",
       "      <th>2</th>\n",
       "      <td>[4.7, 3.2, 1.6, 0.2]</td>\n",
       "      <td>0</td>\n",
       "      <td>0.0</td>\n",
       "    </tr>\n",
       "    <tr>\n",
       "      <th>21</th>\n",
       "      <td>[6.0, 3.4, 4.5, 1.6]</td>\n",
       "      <td>1</td>\n",
       "      <td>1.0</td>\n",
       "    </tr>\n",
       "    <tr>\n",
       "      <th>18</th>\n",
       "      <td>[6.5, 2.8, 4.6, 1.5]</td>\n",
       "      <td>1</td>\n",
       "      <td>1.0</td>\n",
       "    </tr>\n",
       "  </tbody>\n",
       "</table>\n",
       "</div>"
      ],
      "text/plain": [
       "                features  label  prediction\n",
       "4   [4.9, 3.1, 1.5, 0.2]      0         0.0\n",
       "5   [5.0, 3.4, 1.5, 0.2]      0         0.0\n",
       "34  [7.9, 3.8, 6.4, 2.0]      2         2.0\n",
       "25  [7.1, 3.0, 5.9, 2.1]      2         2.0\n",
       "10  [5.1, 3.8, 1.6, 0.2]      0         0.0\n",
       "23  [6.5, 3.0, 5.8, 2.2]      2         2.0\n",
       "28  [6.3, 2.7, 4.9, 1.8]      2         2.0\n",
       "2   [4.7, 3.2, 1.6, 0.2]      0         0.0\n",
       "21  [6.0, 3.4, 4.5, 1.6]      1         1.0\n",
       "18  [6.5, 2.8, 4.6, 1.5]      1         1.0"
      ]
     },
     "execution_count": 16,
     "metadata": {},
     "output_type": "execute_result"
    }
   ],
   "source": [
    "predictions = model.transform(test)\n",
    "predictions.toPandas().sample(10)"
   ]
  },
  {
   "cell_type": "code",
   "execution_count": 17,
   "id": "sunset-hunger",
   "metadata": {},
   "outputs": [
    {
     "name": "stdout",
     "output_type": "stream",
     "text": [
      "0.9428571428571428\n"
     ]
    }
   ],
   "source": [
    "evaluator = MulticlassClassificationEvaluator(\n",
    "    labelCol=\"label\"\n",
    "    , predictionCol=\"prediction\"\n",
    "    , metricName=\"accuracy\"\n",
    ")\n",
    "accuracy = evaluator.evaluate(predictions)\n",
    "print(accuracy)"
   ]
  },
  {
   "cell_type": "code",
   "execution_count": 18,
   "id": "sitting-ordinary",
   "metadata": {},
   "outputs": [],
   "source": [
    "spark.stop()"
   ]
  }
 ],
 "metadata": {
  "kernelspec": {
   "display_name": "ml_study",
   "language": "python",
   "name": "ml_study-mpxukohs"
  },
  "language_info": {
   "codemirror_mode": {
    "name": "ipython",
    "version": 3
   },
   "file_extension": ".py",
   "mimetype": "text/x-python",
   "name": "python",
   "nbconvert_exporter": "python",
   "pygments_lexer": "ipython3",
   "version": "3.8.5"
  }
 },
 "nbformat": 4,
 "nbformat_minor": 5
}
