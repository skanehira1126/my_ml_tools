{
 "cells": [
  {
   "cell_type": "markdown",
   "id": "cubic-travel",
   "metadata": {},
   "source": [
    "# sparkで機械学習がしたい\n",
    "http://mogile.web.fc2.com/spark/ml-classification-regression.html"
   ]
  },
  {
   "cell_type": "code",
   "execution_count": 58,
   "id": "abroad-atlantic",
   "metadata": {},
   "outputs": [],
   "source": [
    "import sys\n",
    "\n",
    "import numpy as np\n",
    "import pandas as pd\n",
    "import matplotlib.pyplot as plt\n",
    "import seaborn as sns\n",
    "\n",
    "from sklearn.datasets import load_iris\n",
    "from sklearn.model_selection import KFold, StratifiedKFold\n",
    "from sklearn.model_selection import GridSearchCV\n",
    "from sklearn.metrics import roc_auc_score, roc_curve\n",
    "from sklearn.metrics import confusion_matrix, classification_report\n",
    "\n",
    "from IPython.display import display"
   ]
  },
  {
   "cell_type": "code",
   "execution_count": 59,
   "id": "convertible-valley",
   "metadata": {},
   "outputs": [
    {
     "name": "stdout",
     "output_type": "stream",
     "text": [
      "dict_keys(['data', 'target', 'frame', 'target_names', 'DESCR', 'feature_names', 'filename'])\n"
     ]
    },
    {
     "data": {
      "text/html": [
       "<div>\n",
       "<style scoped>\n",
       "    .dataframe tbody tr th:only-of-type {\n",
       "        vertical-align: middle;\n",
       "    }\n",
       "\n",
       "    .dataframe tbody tr th {\n",
       "        vertical-align: top;\n",
       "    }\n",
       "\n",
       "    .dataframe thead th {\n",
       "        text-align: right;\n",
       "    }\n",
       "</style>\n",
       "<table border=\"1\" class=\"dataframe\">\n",
       "  <thead>\n",
       "    <tr style=\"text-align: right;\">\n",
       "      <th></th>\n",
       "      <th>sepal length (cm)</th>\n",
       "      <th>sepal width (cm)</th>\n",
       "      <th>petal length (cm)</th>\n",
       "      <th>petal width (cm)</th>\n",
       "    </tr>\n",
       "  </thead>\n",
       "  <tbody>\n",
       "    <tr>\n",
       "      <th>0</th>\n",
       "      <td>5.1</td>\n",
       "      <td>3.5</td>\n",
       "      <td>1.4</td>\n",
       "      <td>0.2</td>\n",
       "    </tr>\n",
       "    <tr>\n",
       "      <th>1</th>\n",
       "      <td>4.9</td>\n",
       "      <td>3.0</td>\n",
       "      <td>1.4</td>\n",
       "      <td>0.2</td>\n",
       "    </tr>\n",
       "    <tr>\n",
       "      <th>2</th>\n",
       "      <td>4.7</td>\n",
       "      <td>3.2</td>\n",
       "      <td>1.3</td>\n",
       "      <td>0.2</td>\n",
       "    </tr>\n",
       "    <tr>\n",
       "      <th>3</th>\n",
       "      <td>4.6</td>\n",
       "      <td>3.1</td>\n",
       "      <td>1.5</td>\n",
       "      <td>0.2</td>\n",
       "    </tr>\n",
       "    <tr>\n",
       "      <th>4</th>\n",
       "      <td>5.0</td>\n",
       "      <td>3.6</td>\n",
       "      <td>1.4</td>\n",
       "      <td>0.2</td>\n",
       "    </tr>\n",
       "  </tbody>\n",
       "</table>\n",
       "</div>"
      ],
      "text/plain": [
       "   sepal length (cm)  sepal width (cm)  petal length (cm)  petal width (cm)\n",
       "0                5.1               3.5                1.4               0.2\n",
       "1                4.9               3.0                1.4               0.2\n",
       "2                4.7               3.2                1.3               0.2\n",
       "3                4.6               3.1                1.5               0.2\n",
       "4                5.0               3.6                1.4               0.2"
      ]
     },
     "metadata": {},
     "output_type": "display_data"
    },
    {
     "name": "stdout",
     "output_type": "stream",
     "text": [
      "(150, 4)\n",
      "0    50\n",
      "1    50\n",
      "2    50\n",
      "Name: target, dtype: int64\n"
     ]
    }
   ],
   "source": [
    "data_iris_all = load_iris(as_frame=True)\n",
    "\n",
    "data_iris = data_iris_all[\"data\"]\n",
    "target_iris = data_iris_all[\"target\"]\n",
    "target_label_iris = data_iris_all[\"target_names\"]\n",
    "frame_iris = data_iris_all[\"frame\"]\n",
    "\n",
    "print(data_iris_all.keys())\n",
    "display(data_iris.head())\n",
    "print(data_iris.shape)\n",
    "print(target_iris.value_counts())"
   ]
  },
  {
   "cell_type": "code",
   "execution_count": 60,
   "id": "coastal-promotion",
   "metadata": {},
   "outputs": [
    {
     "data": {
      "text/html": [
       "<div>\n",
       "<style scoped>\n",
       "    .dataframe tbody tr th:only-of-type {\n",
       "        vertical-align: middle;\n",
       "    }\n",
       "\n",
       "    .dataframe tbody tr th {\n",
       "        vertical-align: top;\n",
       "    }\n",
       "\n",
       "    .dataframe thead th {\n",
       "        text-align: right;\n",
       "    }\n",
       "</style>\n",
       "<table border=\"1\" class=\"dataframe\">\n",
       "  <thead>\n",
       "    <tr style=\"text-align: right;\">\n",
       "      <th></th>\n",
       "      <th>sepal length (cm)</th>\n",
       "      <th>sepal width (cm)</th>\n",
       "      <th>petal length (cm)</th>\n",
       "      <th>petal width (cm)</th>\n",
       "      <th>target</th>\n",
       "    </tr>\n",
       "  </thead>\n",
       "  <tbody>\n",
       "    <tr>\n",
       "      <th>0</th>\n",
       "      <td>5.1</td>\n",
       "      <td>3.5</td>\n",
       "      <td>1.4</td>\n",
       "      <td>0.2</td>\n",
       "      <td>0</td>\n",
       "    </tr>\n",
       "    <tr>\n",
       "      <th>1</th>\n",
       "      <td>4.9</td>\n",
       "      <td>3.0</td>\n",
       "      <td>1.4</td>\n",
       "      <td>0.2</td>\n",
       "      <td>0</td>\n",
       "    </tr>\n",
       "    <tr>\n",
       "      <th>2</th>\n",
       "      <td>4.7</td>\n",
       "      <td>3.2</td>\n",
       "      <td>1.3</td>\n",
       "      <td>0.2</td>\n",
       "      <td>0</td>\n",
       "    </tr>\n",
       "    <tr>\n",
       "      <th>3</th>\n",
       "      <td>4.6</td>\n",
       "      <td>3.1</td>\n",
       "      <td>1.5</td>\n",
       "      <td>0.2</td>\n",
       "      <td>0</td>\n",
       "    </tr>\n",
       "    <tr>\n",
       "      <th>4</th>\n",
       "      <td>5.0</td>\n",
       "      <td>3.6</td>\n",
       "      <td>1.4</td>\n",
       "      <td>0.2</td>\n",
       "      <td>0</td>\n",
       "    </tr>\n",
       "  </tbody>\n",
       "</table>\n",
       "</div>"
      ],
      "text/plain": [
       "   sepal length (cm)  sepal width (cm)  petal length (cm)  petal width (cm)  \\\n",
       "0                5.1               3.5                1.4               0.2   \n",
       "1                4.9               3.0                1.4               0.2   \n",
       "2                4.7               3.2                1.3               0.2   \n",
       "3                4.6               3.1                1.5               0.2   \n",
       "4                5.0               3.6                1.4               0.2   \n",
       "\n",
       "   target  \n",
       "0       0  \n",
       "1       0  \n",
       "2       0  \n",
       "3       0  \n",
       "4       0  "
      ]
     },
     "metadata": {},
     "output_type": "display_data"
    },
    {
     "name": "stdout",
     "output_type": "stream",
     "text": [
      "<class 'pandas.core.frame.DataFrame'>\n",
      "RangeIndex: 150 entries, 0 to 149\n",
      "Data columns (total 5 columns):\n",
      " #   Column             Non-Null Count  Dtype  \n",
      "---  ------             --------------  -----  \n",
      " 0   sepal length (cm)  150 non-null    float64\n",
      " 1   sepal width (cm)   150 non-null    float64\n",
      " 2   petal length (cm)  150 non-null    float64\n",
      " 3   petal width (cm)   150 non-null    float64\n",
      " 4   target             150 non-null    int64  \n",
      "dtypes: float64(4), int64(1)\n",
      "memory usage: 6.0 KB\n"
     ]
    },
    {
     "data": {
      "text/plain": [
       "None"
      ]
     },
     "metadata": {},
     "output_type": "display_data"
    }
   ],
   "source": [
    "display(frame_iris.head())\n",
    "display(frame_iris.info())"
   ]
  },
  {
   "cell_type": "markdown",
   "id": "seven-highway",
   "metadata": {},
   "source": [
    "### Sparkのセッションを起動\n",
    "javaが必要"
   ]
  },
  {
   "cell_type": "code",
   "execution_count": 61,
   "id": "tender-cyprus",
   "metadata": {},
   "outputs": [
    {
     "data": {
      "text/html": [
       "\n",
       "            <div>\n",
       "                <p><b>SparkSession - in-memory</b></p>\n",
       "                \n",
       "        <div>\n",
       "            <p><b>SparkContext</b></p>\n",
       "\n",
       "            <p><a href=\"http://192.168.11.4:4040\">Spark UI</a></p>\n",
       "\n",
       "            <dl>\n",
       "              <dt>Version</dt>\n",
       "                <dd><code>v3.1.1</code></dd>\n",
       "              <dt>Master</dt>\n",
       "                <dd><code>local[*]</code></dd>\n",
       "              <dt>AppName</dt>\n",
       "                <dd><code>pyspark-notebook</code></dd>\n",
       "            </dl>\n",
       "        </div>\n",
       "        \n",
       "            </div>\n",
       "        "
      ],
      "text/plain": [
       "<pyspark.sql.session.SparkSession at 0x127fce460>"
      ]
     },
     "execution_count": 61,
     "metadata": {},
     "output_type": "execute_result"
    }
   ],
   "source": [
    "from pyspark.sql import SparkSession\n",
    "# セッションを開く\n",
    "try:\n",
    "    spark.stop()\n",
    "except NameError:\n",
    "    pass\n",
    "\n",
    "spark = SparkSession.builder.appName(\"pyspark-notebook\").master(master=\"local[*]\").getOrCreate()\n",
    "spark"
   ]
  },
  {
   "cell_type": "code",
   "execution_count": 62,
   "id": "instructional-marijuana",
   "metadata": {},
   "outputs": [
    {
     "name": "stdout",
     "output_type": "stream",
     "text": [
      "Python version : 3.8.5 (default, Jul 21 2020, 10:48:26) \n",
      "[Clang 11.0.3 (clang-1103.0.32.62)]\n",
      "Spark version : 3.1.1\n"
     ]
    }
   ],
   "source": [
    "\"\"\"\n",
    "バージョン確認\n",
    "\"\"\"\n",
    "print (f\"Python version : {sys.version}\")\n",
    "print (f\"Spark version : {spark.version}\")\n",
    "\n"
   ]
  },
  {
   "cell_type": "code",
   "execution_count": 63,
   "id": "amended-intranet",
   "metadata": {},
   "outputs": [],
   "source": [
    "import pyspark.sql.functions as F\n",
    "from pyspark.ml import Pipeline\n",
    "from pyspark.ml.feature import StringIndexer\n",
    "from pyspark.ml.feature import VectorAssembler, VectorIndexer"
   ]
  },
  {
   "cell_type": "code",
   "execution_count": 64,
   "id": "furnished-column",
   "metadata": {},
   "outputs": [],
   "source": [
    "#データの読み込み（pandasのDataFrameより）\n",
    "spark_data = spark.createDataFrame(frame_iris)\n",
    "\n",
    "columns = spark_data.columns"
   ]
  },
  {
   "cell_type": "code",
   "execution_count": 65,
   "id": "native-tanzania",
   "metadata": {},
   "outputs": [
    {
     "name": "stdout",
     "output_type": "stream",
     "text": [
      "columns :  ['sepal length (cm)', 'sepal width (cm)', 'petal length (cm)', 'petal width (cm)', 'target']\n",
      "rows :  150\n",
      "+-----------------+----------------+-----------------+----------------+------+\n",
      "|sepal length (cm)|sepal width (cm)|petal length (cm)|petal width (cm)|target|\n",
      "+-----------------+----------------+-----------------+----------------+------+\n",
      "|              5.1|             3.5|              1.4|             0.2|     0|\n",
      "|              4.9|             3.0|              1.4|             0.2|     0|\n",
      "|              4.7|             3.2|              1.3|             0.2|     0|\n",
      "|              4.6|             3.1|              1.5|             0.2|     0|\n",
      "|              5.0|             3.6|              1.4|             0.2|     0|\n",
      "|              5.4|             3.9|              1.7|             0.4|     0|\n",
      "|              4.6|             3.4|              1.4|             0.3|     0|\n",
      "|              5.0|             3.4|              1.5|             0.2|     0|\n",
      "|              4.4|             2.9|              1.4|             0.2|     0|\n",
      "|              4.9|             3.1|              1.5|             0.1|     0|\n",
      "+-----------------+----------------+-----------------+----------------+------+\n",
      "only showing top 10 rows\n",
      "\n"
     ]
    }
   ],
   "source": [
    "print(\"columns : \", spark_data.columns)\n",
    "print(\"rows : \", spark_data.count())\n",
    "spark_data.show(10)"
   ]
  },
  {
   "cell_type": "code",
   "execution_count": 66,
   "id": "civilian-gallery",
   "metadata": {},
   "outputs": [
    {
     "name": "stdout",
     "output_type": "stream",
     "text": [
      "columns :  ['sepal length (cm)', 'sepal width (cm)', 'petal length (cm)', 'petal width (cm)', 'target', 'features']\n",
      "rows :  150\n",
      "+-----------------+----------------+-----------------+----------------+------+-----------------+\n",
      "|sepal length (cm)|sepal width (cm)|petal length (cm)|petal width (cm)|target|         features|\n",
      "+-----------------+----------------+-----------------+----------------+------+-----------------+\n",
      "|              5.1|             3.5|              1.4|             0.2|     0|[5.1,3.5,1.4,0.2]|\n",
      "|              4.9|             3.0|              1.4|             0.2|     0|[4.9,3.0,1.4,0.2]|\n",
      "|              4.7|             3.2|              1.3|             0.2|     0|[4.7,3.2,1.3,0.2]|\n",
      "|              4.6|             3.1|              1.5|             0.2|     0|[4.6,3.1,1.5,0.2]|\n",
      "|              5.0|             3.6|              1.4|             0.2|     0|[5.0,3.6,1.4,0.2]|\n",
      "|              5.4|             3.9|              1.7|             0.4|     0|[5.4,3.9,1.7,0.4]|\n",
      "|              4.6|             3.4|              1.4|             0.3|     0|[4.6,3.4,1.4,0.3]|\n",
      "|              5.0|             3.4|              1.5|             0.2|     0|[5.0,3.4,1.5,0.2]|\n",
      "|              4.4|             2.9|              1.4|             0.2|     0|[4.4,2.9,1.4,0.2]|\n",
      "|              4.9|             3.1|              1.5|             0.1|     0|[4.9,3.1,1.5,0.1]|\n",
      "+-----------------+----------------+-----------------+----------------+------+-----------------+\n",
      "only showing top 10 rows\n",
      "\n"
     ]
    }
   ],
   "source": [
    "\"\"\"\n",
    "特徴量をまとめる\n",
    "\"\"\"\n",
    "feature_cols = columns[:-1]\n",
    "assembler = VectorAssembler(inputCols=feature_cols, outputCol=\"features\")\n",
    "spark_data_2 = assembler.transform(spark_data)\n",
    "\n",
    "print(\"columns : \", spark_data_2.columns)\n",
    "print(\"rows : \", spark_data_2.count())\n",
    "spark_data_2.show(10)"
   ]
  },
  {
   "cell_type": "code",
   "execution_count": 67,
   "id": "naked-bullet",
   "metadata": {},
   "outputs": [
    {
     "name": "stdout",
     "output_type": "stream",
     "text": [
      "+-----------------+-----+\n",
      "|         features|label|\n",
      "+-----------------+-----+\n",
      "|[5.1,3.5,1.4,0.2]|    0|\n",
      "|[4.9,3.0,1.4,0.2]|    0|\n",
      "|[4.7,3.2,1.3,0.2]|    0|\n",
      "|[4.6,3.1,1.5,0.2]|    0|\n",
      "|[5.0,3.6,1.4,0.2]|    0|\n",
      "|[5.4,3.9,1.7,0.4]|    0|\n",
      "|[4.6,3.4,1.4,0.3]|    0|\n",
      "|[5.0,3.4,1.5,0.2]|    0|\n",
      "|[4.4,2.9,1.4,0.2]|    0|\n",
      "|[4.9,3.1,1.5,0.1]|    0|\n",
      "+-----------------+-----+\n",
      "only showing top 10 rows\n",
      "\n"
     ]
    }
   ],
   "source": [
    "\"\"\"\n",
    "学習用データの作成\n",
    "pysparkのlabelColのデフォルトが'label'なので変更しておく\n",
    "\"\"\"\n",
    "learning_data = spark_data_2.select(\"features\", F.col(\"target\").alias(\"label\"))\n",
    "learning_data.show(10)\n",
    "\n",
    "train, test = learning_data.randomSplit([0.8, 0.2], seed=10)"
   ]
  },
  {
   "cell_type": "code",
   "execution_count": 68,
   "id": "cloudy-capability",
   "metadata": {},
   "outputs": [],
   "source": [
    "from pyspark.ml.classification import GBTClassifier, RandomForestClassifier\n",
    "from pyspark.ml.regression import GBTRegressor\n",
    "from pyspark.ml.evaluation import BinaryClassificationEvaluator, MulticlassClassificationEvaluator\n",
    "from pyspark.ml.tuning import CrossValidator, ParamGridBuilder"
   ]
  },
  {
   "cell_type": "markdown",
   "id": "valid-insertion",
   "metadata": {},
   "source": [
    "#### ランダムフォレスト"
   ]
  },
  {
   "cell_type": "code",
   "execution_count": 69,
   "id": "enormous-blind",
   "metadata": {},
   "outputs": [],
   "source": [
    "rf = RandomForestClassifier(\n",
    "    featuresCol=\"features\"\n",
    "    , labelCol=\"label\"\n",
    "    , numTrees=3\n",
    ")\n",
    "\n",
    "model = rf.fit(train)"
   ]
  },
  {
   "cell_type": "code",
   "execution_count": 70,
   "id": "fatal-inclusion",
   "metadata": {},
   "outputs": [
    {
     "data": {
      "text/html": [
       "<div>\n",
       "<style scoped>\n",
       "    .dataframe tbody tr th:only-of-type {\n",
       "        vertical-align: middle;\n",
       "    }\n",
       "\n",
       "    .dataframe tbody tr th {\n",
       "        vertical-align: top;\n",
       "    }\n",
       "\n",
       "    .dataframe thead th {\n",
       "        text-align: right;\n",
       "    }\n",
       "</style>\n",
       "<table border=\"1\" class=\"dataframe\">\n",
       "  <thead>\n",
       "    <tr style=\"text-align: right;\">\n",
       "      <th></th>\n",
       "      <th>features</th>\n",
       "      <th>label</th>\n",
       "      <th>rawPrediction</th>\n",
       "      <th>probability</th>\n",
       "      <th>prediction</th>\n",
       "    </tr>\n",
       "  </thead>\n",
       "  <tbody>\n",
       "    <tr>\n",
       "      <th>5</th>\n",
       "      <td>[5.0, 3.4, 1.5, 0.2]</td>\n",
       "      <td>0</td>\n",
       "      <td>[3.0, 0.0, 0.0]</td>\n",
       "      <td>[1.0, 0.0, 0.0]</td>\n",
       "      <td>0.0</td>\n",
       "    </tr>\n",
       "    <tr>\n",
       "      <th>29</th>\n",
       "      <td>[6.7, 3.1, 5.6, 2.4]</td>\n",
       "      <td>2</td>\n",
       "      <td>[0.0, 0.0, 3.0]</td>\n",
       "      <td>[0.0, 0.0, 1.0]</td>\n",
       "      <td>2.0</td>\n",
       "    </tr>\n",
       "    <tr>\n",
       "      <th>19</th>\n",
       "      <td>[5.0, 2.3, 3.3, 1.0]</td>\n",
       "      <td>1</td>\n",
       "      <td>[0.0, 3.0, 0.0]</td>\n",
       "      <td>[0.0, 1.0, 0.0]</td>\n",
       "      <td>1.0</td>\n",
       "    </tr>\n",
       "    <tr>\n",
       "      <th>18</th>\n",
       "      <td>[6.5, 2.8, 4.6, 1.5]</td>\n",
       "      <td>1</td>\n",
       "      <td>[0.0, 2.9, 0.1]</td>\n",
       "      <td>[0.0, 0.9666666666666667, 0.03333333333333333]</td>\n",
       "      <td>1.0</td>\n",
       "    </tr>\n",
       "    <tr>\n",
       "      <th>20</th>\n",
       "      <td>[5.5, 2.6, 4.4, 1.2]</td>\n",
       "      <td>1</td>\n",
       "      <td>[0.0, 3.0, 0.0]</td>\n",
       "      <td>[0.0, 1.0, 0.0]</td>\n",
       "      <td>1.0</td>\n",
       "    </tr>\n",
       "    <tr>\n",
       "      <th>14</th>\n",
       "      <td>[5.6, 2.5, 3.9, 1.1]</td>\n",
       "      <td>1</td>\n",
       "      <td>[0.0, 3.0, 0.0]</td>\n",
       "      <td>[0.0, 1.0, 0.0]</td>\n",
       "      <td>1.0</td>\n",
       "    </tr>\n",
       "    <tr>\n",
       "      <th>7</th>\n",
       "      <td>[5.7, 4.4, 1.5, 0.4]</td>\n",
       "      <td>0</td>\n",
       "      <td>[0.0, 3.0, 0.0]</td>\n",
       "      <td>[0.0, 1.0, 0.0]</td>\n",
       "      <td>1.0</td>\n",
       "    </tr>\n",
       "    <tr>\n",
       "      <th>17</th>\n",
       "      <td>[6.3, 2.5, 4.9, 1.5]</td>\n",
       "      <td>1</td>\n",
       "      <td>[0.0, 0.9, 2.1]</td>\n",
       "      <td>[0.0, 0.3, 0.7000000000000001]</td>\n",
       "      <td>2.0</td>\n",
       "    </tr>\n",
       "    <tr>\n",
       "      <th>30</th>\n",
       "      <td>[6.7, 3.3, 5.7, 2.1]</td>\n",
       "      <td>2</td>\n",
       "      <td>[0.0, 0.0, 3.0]</td>\n",
       "      <td>[0.0, 0.0, 1.0]</td>\n",
       "      <td>2.0</td>\n",
       "    </tr>\n",
       "    <tr>\n",
       "      <th>3</th>\n",
       "      <td>[4.8, 3.4, 1.9, 0.2]</td>\n",
       "      <td>0</td>\n",
       "      <td>[3.0, 0.0, 0.0]</td>\n",
       "      <td>[1.0, 0.0, 0.0]</td>\n",
       "      <td>0.0</td>\n",
       "    </tr>\n",
       "  </tbody>\n",
       "</table>\n",
       "</div>"
      ],
      "text/plain": [
       "                features  label    rawPrediction  \\\n",
       "5   [5.0, 3.4, 1.5, 0.2]      0  [3.0, 0.0, 0.0]   \n",
       "29  [6.7, 3.1, 5.6, 2.4]      2  [0.0, 0.0, 3.0]   \n",
       "19  [5.0, 2.3, 3.3, 1.0]      1  [0.0, 3.0, 0.0]   \n",
       "18  [6.5, 2.8, 4.6, 1.5]      1  [0.0, 2.9, 0.1]   \n",
       "20  [5.5, 2.6, 4.4, 1.2]      1  [0.0, 3.0, 0.0]   \n",
       "14  [5.6, 2.5, 3.9, 1.1]      1  [0.0, 3.0, 0.0]   \n",
       "7   [5.7, 4.4, 1.5, 0.4]      0  [0.0, 3.0, 0.0]   \n",
       "17  [6.3, 2.5, 4.9, 1.5]      1  [0.0, 0.9, 2.1]   \n",
       "30  [6.7, 3.3, 5.7, 2.1]      2  [0.0, 0.0, 3.0]   \n",
       "3   [4.8, 3.4, 1.9, 0.2]      0  [3.0, 0.0, 0.0]   \n",
       "\n",
       "                                       probability  prediction  \n",
       "5                                  [1.0, 0.0, 0.0]         0.0  \n",
       "29                                 [0.0, 0.0, 1.0]         2.0  \n",
       "19                                 [0.0, 1.0, 0.0]         1.0  \n",
       "18  [0.0, 0.9666666666666667, 0.03333333333333333]         1.0  \n",
       "20                                 [0.0, 1.0, 0.0]         1.0  \n",
       "14                                 [0.0, 1.0, 0.0]         1.0  \n",
       "7                                  [0.0, 1.0, 0.0]         1.0  \n",
       "17                  [0.0, 0.3, 0.7000000000000001]         2.0  \n",
       "30                                 [0.0, 0.0, 1.0]         2.0  \n",
       "3                                  [1.0, 0.0, 0.0]         0.0  "
      ]
     },
     "execution_count": 70,
     "metadata": {},
     "output_type": "execute_result"
    }
   ],
   "source": [
    "predictions = model.transform(test)\n",
    "#予測結果の確認\n",
    "predictions.toPandas().sample(10)"
   ]
  },
  {
   "cell_type": "code",
   "execution_count": 71,
   "id": "downtown-chorus",
   "metadata": {},
   "outputs": [
    {
     "name": "stdout",
     "output_type": "stream",
     "text": [
      "0.9142857142857143\n"
     ]
    }
   ],
   "source": [
    "evaluator = MulticlassClassificationEvaluator(\n",
    "    labelCol=\"label\"\n",
    "    , predictionCol=\"prediction\"\n",
    "    , metricName=\"accuracy\"\n",
    ")\n",
    "accuracy = evaluator.evaluate(predictions)\n",
    "print(accuracy)"
   ]
  },
  {
   "cell_type": "markdown",
   "id": "middle-preserve",
   "metadata": {},
   "source": [
    "#### GBT回帰"
   ]
  },
  {
   "cell_type": "code",
   "execution_count": 74,
   "id": "sharp-bidding",
   "metadata": {
    "scrolled": false
   },
   "outputs": [],
   "source": [
    "#とりあえずデフォルトパラメータで学習\n",
    "gbtr = GBTRegressor(\n",
    "    featuresCol=\"features\"\n",
    "    , labelCol=\"label\"\n",
    "    , maxIter=100\n",
    ")\n",
    "\n",
    "#学習\n",
    "model = gbtr.fit(train)"
   ]
  },
  {
   "cell_type": "code",
   "execution_count": 75,
   "id": "incredible-radical",
   "metadata": {},
   "outputs": [
    {
     "data": {
      "text/html": [
       "<div>\n",
       "<style scoped>\n",
       "    .dataframe tbody tr th:only-of-type {\n",
       "        vertical-align: middle;\n",
       "    }\n",
       "\n",
       "    .dataframe tbody tr th {\n",
       "        vertical-align: top;\n",
       "    }\n",
       "\n",
       "    .dataframe thead th {\n",
       "        text-align: right;\n",
       "    }\n",
       "</style>\n",
       "<table border=\"1\" class=\"dataframe\">\n",
       "  <thead>\n",
       "    <tr style=\"text-align: right;\">\n",
       "      <th></th>\n",
       "      <th>features</th>\n",
       "      <th>label</th>\n",
       "      <th>prediction</th>\n",
       "    </tr>\n",
       "  </thead>\n",
       "  <tbody>\n",
       "    <tr>\n",
       "      <th>14</th>\n",
       "      <td>[5.6, 2.5, 3.9, 1.1]</td>\n",
       "      <td>1</td>\n",
       "      <td>1.0</td>\n",
       "    </tr>\n",
       "    <tr>\n",
       "      <th>32</th>\n",
       "      <td>[6.8, 3.2, 5.9, 2.3]</td>\n",
       "      <td>2</td>\n",
       "      <td>2.0</td>\n",
       "    </tr>\n",
       "    <tr>\n",
       "      <th>9</th>\n",
       "      <td>[4.9, 3.6, 1.4, 0.1]</td>\n",
       "      <td>0</td>\n",
       "      <td>0.0</td>\n",
       "    </tr>\n",
       "    <tr>\n",
       "      <th>21</th>\n",
       "      <td>[6.0, 3.4, 4.5, 1.6]</td>\n",
       "      <td>1</td>\n",
       "      <td>1.0</td>\n",
       "    </tr>\n",
       "    <tr>\n",
       "      <th>1</th>\n",
       "      <td>[4.6, 3.4, 1.4, 0.3]</td>\n",
       "      <td>0</td>\n",
       "      <td>0.0</td>\n",
       "    </tr>\n",
       "    <tr>\n",
       "      <th>17</th>\n",
       "      <td>[6.3, 2.5, 4.9, 1.5]</td>\n",
       "      <td>1</td>\n",
       "      <td>1.0</td>\n",
       "    </tr>\n",
       "    <tr>\n",
       "      <th>34</th>\n",
       "      <td>[7.9, 3.8, 6.4, 2.0]</td>\n",
       "      <td>2</td>\n",
       "      <td>2.0</td>\n",
       "    </tr>\n",
       "    <tr>\n",
       "      <th>24</th>\n",
       "      <td>[6.5, 3.2, 5.1, 2.0]</td>\n",
       "      <td>2</td>\n",
       "      <td>2.0</td>\n",
       "    </tr>\n",
       "    <tr>\n",
       "      <th>16</th>\n",
       "      <td>[6.1, 2.9, 4.7, 1.4]</td>\n",
       "      <td>1</td>\n",
       "      <td>1.0</td>\n",
       "    </tr>\n",
       "    <tr>\n",
       "      <th>29</th>\n",
       "      <td>[6.7, 3.1, 5.6, 2.4]</td>\n",
       "      <td>2</td>\n",
       "      <td>2.0</td>\n",
       "    </tr>\n",
       "  </tbody>\n",
       "</table>\n",
       "</div>"
      ],
      "text/plain": [
       "                features  label  prediction\n",
       "14  [5.6, 2.5, 3.9, 1.1]      1         1.0\n",
       "32  [6.8, 3.2, 5.9, 2.3]      2         2.0\n",
       "9   [4.9, 3.6, 1.4, 0.1]      0         0.0\n",
       "21  [6.0, 3.4, 4.5, 1.6]      1         1.0\n",
       "1   [4.6, 3.4, 1.4, 0.3]      0         0.0\n",
       "17  [6.3, 2.5, 4.9, 1.5]      1         1.0\n",
       "34  [7.9, 3.8, 6.4, 2.0]      2         2.0\n",
       "24  [6.5, 3.2, 5.1, 2.0]      2         2.0\n",
       "16  [6.1, 2.9, 4.7, 1.4]      1         1.0\n",
       "29  [6.7, 3.1, 5.6, 2.4]      2         2.0"
      ]
     },
     "execution_count": 75,
     "metadata": {},
     "output_type": "execute_result"
    }
   ],
   "source": [
    "predictions = model.transform(test)\n",
    "predictions.toPandas().sample(10)"
   ]
  },
  {
   "cell_type": "code",
   "execution_count": 76,
   "id": "sunset-hunger",
   "metadata": {},
   "outputs": [
    {
     "name": "stdout",
     "output_type": "stream",
     "text": [
      "0.9428571428571428\n"
     ]
    }
   ],
   "source": [
    "evaluator = MulticlassClassificationEvaluator(\n",
    "    labelCol=\"label\"\n",
    "    , predictionCol=\"prediction\"\n",
    "    , metricName=\"accuracy\"\n",
    ")\n",
    "accuracy = evaluator.evaluate(predictions)\n",
    "print(accuracy)"
   ]
  },
  {
   "cell_type": "code",
   "execution_count": 77,
   "id": "mediterranean-supplier",
   "metadata": {},
   "outputs": [],
   "source": [
    "spark.stop()"
   ]
  },
  {
   "cell_type": "markdown",
   "id": "respiratory-uzbekistan",
   "metadata": {},
   "source": [
    "## CrossValidation\n",
    "### データの準備"
   ]
  },
  {
   "cell_type": "code",
   "execution_count": 24,
   "id": "formal-arena",
   "metadata": {},
   "outputs": [],
   "source": [
    "from sklearn.datasets import load_boston"
   ]
  },
  {
   "cell_type": "code",
   "execution_count": 105,
   "id": "outer-railway",
   "metadata": {},
   "outputs": [
    {
     "data": {
      "text/html": [
       "\n",
       "            <div>\n",
       "                <p><b>SparkSession - in-memory</b></p>\n",
       "                \n",
       "        <div>\n",
       "            <p><b>SparkContext</b></p>\n",
       "\n",
       "            <p><a href=\"http://192.168.11.4:4040\">Spark UI</a></p>\n",
       "\n",
       "            <dl>\n",
       "              <dt>Version</dt>\n",
       "                <dd><code>v3.1.1</code></dd>\n",
       "              <dt>Master</dt>\n",
       "                <dd><code>local[*]</code></dd>\n",
       "              <dt>AppName</dt>\n",
       "                <dd><code>pyspark-notebook</code></dd>\n",
       "            </dl>\n",
       "        </div>\n",
       "        \n",
       "            </div>\n",
       "        "
      ],
      "text/plain": [
       "<pyspark.sql.session.SparkSession at 0x1294cfb80>"
      ]
     },
     "execution_count": 105,
     "metadata": {},
     "output_type": "execute_result"
    }
   ],
   "source": [
    "from pyspark.sql import SparkSession\n",
    "# セッションを開く\n",
    "try:\n",
    "    spark.stop()\n",
    "except NameError:\n",
    "    pass\n",
    "\n",
    "spark = SparkSession.builder.appName(\"pyspark-notebook\").master(master=\"local[*]\").getOrCreate()\n",
    "spark"
   ]
  },
  {
   "cell_type": "code",
   "execution_count": 106,
   "id": "entitled-kidney",
   "metadata": {},
   "outputs": [
    {
     "name": "stdout",
     "output_type": "stream",
     "text": [
      "+-------+----+-----+----+-----+-----+-----+------+---+-----+-------+------+-----+------+\n",
      "|   CRIM|  ZN|INDUS|CHAS|  NOX|   RM|  AGE|   DIS|RAD|  TAX|PTRATIO|     B|LSTAT|target|\n",
      "+-------+----+-----+----+-----+-----+-----+------+---+-----+-------+------+-----+------+\n",
      "|0.00632|18.0| 2.31| 0.0|0.538|6.575| 65.2|  4.09|1.0|296.0|   15.3| 396.9| 4.98|  24.0|\n",
      "|0.02731| 0.0| 7.07| 0.0|0.469|6.421| 78.9|4.9671|2.0|242.0|   17.8| 396.9| 9.14|  21.6|\n",
      "|0.02729| 0.0| 7.07| 0.0|0.469|7.185| 61.1|4.9671|2.0|242.0|   17.8|392.83| 4.03|  34.7|\n",
      "|0.03237| 0.0| 2.18| 0.0|0.458|6.998| 45.8|6.0622|3.0|222.0|   18.7|394.63| 2.94|  33.4|\n",
      "|0.06905| 0.0| 2.18| 0.0|0.458|7.147| 54.2|6.0622|3.0|222.0|   18.7| 396.9| 5.33|  36.2|\n",
      "|0.02985| 0.0| 2.18| 0.0|0.458| 6.43| 58.7|6.0622|3.0|222.0|   18.7|394.12| 5.21|  28.7|\n",
      "|0.08829|12.5| 7.87| 0.0|0.524|6.012| 66.6|5.5605|5.0|311.0|   15.2| 395.6|12.43|  22.9|\n",
      "|0.14455|12.5| 7.87| 0.0|0.524|6.172| 96.1|5.9505|5.0|311.0|   15.2| 396.9|19.15|  27.1|\n",
      "|0.21124|12.5| 7.87| 0.0|0.524|5.631|100.0|6.0821|5.0|311.0|   15.2|386.63|29.93|  16.5|\n",
      "|0.17004|12.5| 7.87| 0.0|0.524|6.004| 85.9|6.5921|5.0|311.0|   15.2|386.71| 17.1|  18.9|\n",
      "|0.22489|12.5| 7.87| 0.0|0.524|6.377| 94.3|6.3467|5.0|311.0|   15.2|392.52|20.45|  15.0|\n",
      "|0.11747|12.5| 7.87| 0.0|0.524|6.009| 82.9|6.2267|5.0|311.0|   15.2| 396.9|13.27|  18.9|\n",
      "|0.09378|12.5| 7.87| 0.0|0.524|5.889| 39.0|5.4509|5.0|311.0|   15.2| 390.5|15.71|  21.7|\n",
      "|0.62976| 0.0| 8.14| 0.0|0.538|5.949| 61.8|4.7075|4.0|307.0|   21.0| 396.9| 8.26|  20.4|\n",
      "|0.63796| 0.0| 8.14| 0.0|0.538|6.096| 84.5|4.4619|4.0|307.0|   21.0|380.02|10.26|  18.2|\n",
      "|0.62739| 0.0| 8.14| 0.0|0.538|5.834| 56.5|4.4986|4.0|307.0|   21.0|395.62| 8.47|  19.9|\n",
      "|1.05393| 0.0| 8.14| 0.0|0.538|5.935| 29.3|4.4986|4.0|307.0|   21.0|386.85| 6.58|  23.1|\n",
      "| 0.7842| 0.0| 8.14| 0.0|0.538| 5.99| 81.7|4.2579|4.0|307.0|   21.0|386.75|14.67|  17.5|\n",
      "|0.80271| 0.0| 8.14| 0.0|0.538|5.456| 36.6|3.7965|4.0|307.0|   21.0|288.99|11.69|  20.2|\n",
      "| 0.7258| 0.0| 8.14| 0.0|0.538|5.727| 69.5|3.7965|4.0|307.0|   21.0|390.95|11.28|  18.2|\n",
      "+-------+----+-----+----+-----+-----+-----+------+---+-----+-------+------+-----+------+\n",
      "only showing top 20 rows\n",
      "\n"
     ]
    }
   ],
   "source": [
    "boston_data = load_boston()\n",
    "\n",
    "boston_df = pd.DataFrame(boston_data[\"data\"], columns=boston_data[\"feature_names\"])\n",
    "boston_df[\"target\"] = boston_data[\"target\"]\n",
    "feature_cols = boston_data[\"feature_names\"]\n",
    "boston_df = spark.createDataFrame(boston_df)\n",
    "boston_df.show()"
   ]
  },
  {
   "cell_type": "code",
   "execution_count": 107,
   "id": "unknown-turtle",
   "metadata": {},
   "outputs": [
    {
     "name": "stdout",
     "output_type": "stream",
     "text": [
      "+-------+----+-----+----+-----+-----+-----+------+---+-----+-------+------+-----+------+--------------------+\n",
      "|   CRIM|  ZN|INDUS|CHAS|  NOX|   RM|  AGE|   DIS|RAD|  TAX|PTRATIO|     B|LSTAT|target|            features|\n",
      "+-------+----+-----+----+-----+-----+-----+------+---+-----+-------+------+-----+------+--------------------+\n",
      "|0.00632|18.0| 2.31| 0.0|0.538|6.575| 65.2|  4.09|1.0|296.0|   15.3| 396.9| 4.98|  24.0|[0.00632,18.0,2.3...|\n",
      "|0.02731| 0.0| 7.07| 0.0|0.469|6.421| 78.9|4.9671|2.0|242.0|   17.8| 396.9| 9.14|  21.6|[0.02731,0.0,7.07...|\n",
      "|0.02729| 0.0| 7.07| 0.0|0.469|7.185| 61.1|4.9671|2.0|242.0|   17.8|392.83| 4.03|  34.7|[0.02729,0.0,7.07...|\n",
      "|0.03237| 0.0| 2.18| 0.0|0.458|6.998| 45.8|6.0622|3.0|222.0|   18.7|394.63| 2.94|  33.4|[0.03237,0.0,2.18...|\n",
      "|0.06905| 0.0| 2.18| 0.0|0.458|7.147| 54.2|6.0622|3.0|222.0|   18.7| 396.9| 5.33|  36.2|[0.06905,0.0,2.18...|\n",
      "|0.02985| 0.0| 2.18| 0.0|0.458| 6.43| 58.7|6.0622|3.0|222.0|   18.7|394.12| 5.21|  28.7|[0.02985,0.0,2.18...|\n",
      "|0.08829|12.5| 7.87| 0.0|0.524|6.012| 66.6|5.5605|5.0|311.0|   15.2| 395.6|12.43|  22.9|[0.08829,12.5,7.8...|\n",
      "|0.14455|12.5| 7.87| 0.0|0.524|6.172| 96.1|5.9505|5.0|311.0|   15.2| 396.9|19.15|  27.1|[0.14455,12.5,7.8...|\n",
      "|0.21124|12.5| 7.87| 0.0|0.524|5.631|100.0|6.0821|5.0|311.0|   15.2|386.63|29.93|  16.5|[0.21124,12.5,7.8...|\n",
      "|0.17004|12.5| 7.87| 0.0|0.524|6.004| 85.9|6.5921|5.0|311.0|   15.2|386.71| 17.1|  18.9|[0.17004,12.5,7.8...|\n",
      "|0.22489|12.5| 7.87| 0.0|0.524|6.377| 94.3|6.3467|5.0|311.0|   15.2|392.52|20.45|  15.0|[0.22489,12.5,7.8...|\n",
      "|0.11747|12.5| 7.87| 0.0|0.524|6.009| 82.9|6.2267|5.0|311.0|   15.2| 396.9|13.27|  18.9|[0.11747,12.5,7.8...|\n",
      "|0.09378|12.5| 7.87| 0.0|0.524|5.889| 39.0|5.4509|5.0|311.0|   15.2| 390.5|15.71|  21.7|[0.09378,12.5,7.8...|\n",
      "|0.62976| 0.0| 8.14| 0.0|0.538|5.949| 61.8|4.7075|4.0|307.0|   21.0| 396.9| 8.26|  20.4|[0.62976,0.0,8.14...|\n",
      "|0.63796| 0.0| 8.14| 0.0|0.538|6.096| 84.5|4.4619|4.0|307.0|   21.0|380.02|10.26|  18.2|[0.63796,0.0,8.14...|\n",
      "|0.62739| 0.0| 8.14| 0.0|0.538|5.834| 56.5|4.4986|4.0|307.0|   21.0|395.62| 8.47|  19.9|[0.62739,0.0,8.14...|\n",
      "|1.05393| 0.0| 8.14| 0.0|0.538|5.935| 29.3|4.4986|4.0|307.0|   21.0|386.85| 6.58|  23.1|[1.05393,0.0,8.14...|\n",
      "| 0.7842| 0.0| 8.14| 0.0|0.538| 5.99| 81.7|4.2579|4.0|307.0|   21.0|386.75|14.67|  17.5|[0.7842,0.0,8.14,...|\n",
      "|0.80271| 0.0| 8.14| 0.0|0.538|5.456| 36.6|3.7965|4.0|307.0|   21.0|288.99|11.69|  20.2|[0.80271,0.0,8.14...|\n",
      "| 0.7258| 0.0| 8.14| 0.0|0.538|5.727| 69.5|3.7965|4.0|307.0|   21.0|390.95|11.28|  18.2|[0.7258,0.0,8.14,...|\n",
      "+-------+----+-----+----+-----+-----+-----+------+---+-----+-------+------+-----+------+--------------------+\n",
      "only showing top 20 rows\n",
      "\n"
     ]
    }
   ],
   "source": [
    "assembler = VectorAssembler(inputCols=feature_cols, outputCol=\"features\")\n",
    "boston_df = assembler.transform(boston_df)\n",
    "\n",
    "boston_df.show()"
   ]
  },
  {
   "cell_type": "code",
   "execution_count": 108,
   "id": "insured-trash",
   "metadata": {},
   "outputs": [
    {
     "name": "stdout",
     "output_type": "stream",
     "text": [
      "+--------------------+-----+\n",
      "|            features|label|\n",
      "+--------------------+-----+\n",
      "|[0.00632,18.0,2.3...| 24.0|\n",
      "|[0.02731,0.0,7.07...| 21.6|\n",
      "|[0.02729,0.0,7.07...| 34.7|\n",
      "|[0.03237,0.0,2.18...| 33.4|\n",
      "|[0.06905,0.0,2.18...| 36.2|\n",
      "|[0.02985,0.0,2.18...| 28.7|\n",
      "|[0.08829,12.5,7.8...| 22.9|\n",
      "|[0.14455,12.5,7.8...| 27.1|\n",
      "|[0.21124,12.5,7.8...| 16.5|\n",
      "|[0.17004,12.5,7.8...| 18.9|\n",
      "+--------------------+-----+\n",
      "only showing top 10 rows\n",
      "\n"
     ]
    }
   ],
   "source": [
    "boston_df = boston_df.select(\"features\", F.col(\"target\").alias(\"label\"))\n",
    "boston_df.show(10)\n",
    "\n",
    "train, test = boston_df.randomSplit([0.8, 0.2], seed=10)"
   ]
  },
  {
   "cell_type": "markdown",
   "id": "respective-steal",
   "metadata": {},
   "source": [
    "* CrossValidator：https://spark.apache.org/docs/latest/api/python/reference/api/pyspark.ml.tuning.CrossValidator.html\n",
    "* ParamGridBuilder："
   ]
  },
  {
   "cell_type": "code",
   "execution_count": 109,
   "id": "forty-costs",
   "metadata": {},
   "outputs": [],
   "source": [
    "from pyspark.ml.regression import GBTRegressor\n",
    "from pyspark.ml.evaluation import RegressionEvaluator\n",
    "from pyspark.ml.tuning import CrossValidator, ParamGridBuilder\n",
    "\n",
    "gbtr = GBTRegressor(featuresCol=\"features\", labelCol=\"label\")\n",
    "evaluator = RegressionEvaluator(\n",
    "    predictionCol=\"prediction\"\n",
    "    , labelCol=\"label\"\n",
    "    , metricName=\"rmse\"\n",
    ")\n",
    "\n"
   ]
  },
  {
   "cell_type": "code",
   "execution_count": 110,
   "id": "critical-musical",
   "metadata": {},
   "outputs": [],
   "source": [
    "param_grid = ParamGridBuilder()\\\n",
    "    .addGrid(gbtr.maxDepth, [3, 4, 5])\\\n",
    "    .addGrid(gbtr.subsamplingRate, [0.6, 0.8, 1.0])\\\n",
    "    .addGrid(gbtr.maxIter, [30, 50, 70])\\\n",
    "    .build()\n",
    "\n"
   ]
  },
  {
   "cell_type": "code",
   "execution_count": 111,
   "id": "horizontal-capitol",
   "metadata": {},
   "outputs": [],
   "source": [
    "cross_val = CrossValidator(\n",
    "    estimator=gbtr\n",
    "    , estimatorParamMaps=param_grid\n",
    "    , evaluator=evaluator\n",
    "    , numFolds=3\n",
    "    , seed=43\n",
    "    , parallelism=2\n",
    ")"
   ]
  },
  {
   "cell_type": "code",
   "execution_count": 112,
   "id": "wrong-brother",
   "metadata": {},
   "outputs": [
    {
     "name": "stdout",
     "output_type": "stream",
     "text": [
      "CPU times: user 5.69 s, sys: 2.49 s, total: 8.18 s\n",
      "Wall time: 5min 58s\n"
     ]
    }
   ],
   "source": [
    "%%time\n",
    "cv_model = cross_val.fit(train)"
   ]
  },
  {
   "cell_type": "code",
   "execution_count": 113,
   "id": "eastern-newport",
   "metadata": {},
   "outputs": [],
   "source": [
    "def check_cv_result(cv_mode, asc=True):\n",
    "    \"\"\"\n",
    "    CrossValidatorでcvした結果の確認\n",
    "    \n",
    "    Parameters\n",
    "    -----\n",
    "    cv_model : Transformer\n",
    "        cv訓練済みのモデル\n",
    "    asc : bool default True\n",
    "        metricでのsortを昇順にするか降順にするか\n",
    "    \"\"\"\n",
    "    avgMetrics = cv_model.avgMetrics\n",
    "    cv_params = cv_model.getEstimatorParamMaps()\n",
    "\n",
    "    result_list = []\n",
    "    for param_dict, avg_metric in zip(cv_params, avgMetrics):\n",
    "        temp_result_map = {\"metric\":avg_metric}\n",
    "        for param, val in param_dict.items():\n",
    "            temp_result_map[param.name] = val\n",
    "        result_list.append(temp_result_map)\n",
    "\n",
    "    cv_result_df = pd.DataFrame(result_list)\n",
    "    cv_result_df.sort_values(\"metric\", ascending=asc, inplace=True)\n",
    "    return cv_result_df"
   ]
  },
  {
   "cell_type": "code",
   "execution_count": 114,
   "id": "rural-belly",
   "metadata": {},
   "outputs": [
    {
     "data": {
      "text/html": [
       "<div>\n",
       "<style scoped>\n",
       "    .dataframe tbody tr th:only-of-type {\n",
       "        vertical-align: middle;\n",
       "    }\n",
       "\n",
       "    .dataframe tbody tr th {\n",
       "        vertical-align: top;\n",
       "    }\n",
       "\n",
       "    .dataframe thead th {\n",
       "        text-align: right;\n",
       "    }\n",
       "</style>\n",
       "<table border=\"1\" class=\"dataframe\">\n",
       "  <thead>\n",
       "    <tr style=\"text-align: right;\">\n",
       "      <th></th>\n",
       "      <th>metric</th>\n",
       "      <th>maxDepth</th>\n",
       "      <th>subsamplingRate</th>\n",
       "      <th>maxIter</th>\n",
       "    </tr>\n",
       "  </thead>\n",
       "  <tbody>\n",
       "    <tr>\n",
       "      <th>5</th>\n",
       "      <td>3.712986</td>\n",
       "      <td>3</td>\n",
       "      <td>0.8</td>\n",
       "      <td>70</td>\n",
       "    </tr>\n",
       "    <tr>\n",
       "      <th>2</th>\n",
       "      <td>3.771435</td>\n",
       "      <td>3</td>\n",
       "      <td>0.6</td>\n",
       "      <td>70</td>\n",
       "    </tr>\n",
       "    <tr>\n",
       "      <th>1</th>\n",
       "      <td>3.799881</td>\n",
       "      <td>3</td>\n",
       "      <td>0.6</td>\n",
       "      <td>50</td>\n",
       "    </tr>\n",
       "    <tr>\n",
       "      <th>4</th>\n",
       "      <td>3.808517</td>\n",
       "      <td>3</td>\n",
       "      <td>0.8</td>\n",
       "      <td>50</td>\n",
       "    </tr>\n",
       "    <tr>\n",
       "      <th>8</th>\n",
       "      <td>3.809639</td>\n",
       "      <td>3</td>\n",
       "      <td>1.0</td>\n",
       "      <td>70</td>\n",
       "    </tr>\n",
       "    <tr>\n",
       "      <th>17</th>\n",
       "      <td>3.810990</td>\n",
       "      <td>4</td>\n",
       "      <td>1.0</td>\n",
       "      <td>70</td>\n",
       "    </tr>\n",
       "    <tr>\n",
       "      <th>16</th>\n",
       "      <td>3.829869</td>\n",
       "      <td>4</td>\n",
       "      <td>1.0</td>\n",
       "      <td>50</td>\n",
       "    </tr>\n",
       "    <tr>\n",
       "      <th>7</th>\n",
       "      <td>3.853383</td>\n",
       "      <td>3</td>\n",
       "      <td>1.0</td>\n",
       "      <td>50</td>\n",
       "    </tr>\n",
       "    <tr>\n",
       "      <th>0</th>\n",
       "      <td>3.875134</td>\n",
       "      <td>3</td>\n",
       "      <td>0.6</td>\n",
       "      <td>30</td>\n",
       "    </tr>\n",
       "    <tr>\n",
       "      <th>15</th>\n",
       "      <td>3.902165</td>\n",
       "      <td>4</td>\n",
       "      <td>1.0</td>\n",
       "      <td>30</td>\n",
       "    </tr>\n",
       "    <tr>\n",
       "      <th>3</th>\n",
       "      <td>3.973143</td>\n",
       "      <td>3</td>\n",
       "      <td>0.8</td>\n",
       "      <td>30</td>\n",
       "    </tr>\n",
       "    <tr>\n",
       "      <th>6</th>\n",
       "      <td>3.987665</td>\n",
       "      <td>3</td>\n",
       "      <td>1.0</td>\n",
       "      <td>30</td>\n",
       "    </tr>\n",
       "    <tr>\n",
       "      <th>14</th>\n",
       "      <td>4.032434</td>\n",
       "      <td>4</td>\n",
       "      <td>0.8</td>\n",
       "      <td>70</td>\n",
       "    </tr>\n",
       "    <tr>\n",
       "      <th>13</th>\n",
       "      <td>4.064640</td>\n",
       "      <td>4</td>\n",
       "      <td>0.8</td>\n",
       "      <td>50</td>\n",
       "    </tr>\n",
       "    <tr>\n",
       "      <th>12</th>\n",
       "      <td>4.145409</td>\n",
       "      <td>4</td>\n",
       "      <td>0.8</td>\n",
       "      <td>30</td>\n",
       "    </tr>\n",
       "    <tr>\n",
       "      <th>25</th>\n",
       "      <td>4.333987</td>\n",
       "      <td>5</td>\n",
       "      <td>1.0</td>\n",
       "      <td>50</td>\n",
       "    </tr>\n",
       "    <tr>\n",
       "      <th>26</th>\n",
       "      <td>4.339036</td>\n",
       "      <td>5</td>\n",
       "      <td>1.0</td>\n",
       "      <td>70</td>\n",
       "    </tr>\n",
       "    <tr>\n",
       "      <th>24</th>\n",
       "      <td>4.361112</td>\n",
       "      <td>5</td>\n",
       "      <td>1.0</td>\n",
       "      <td>30</td>\n",
       "    </tr>\n",
       "    <tr>\n",
       "      <th>10</th>\n",
       "      <td>4.398943</td>\n",
       "      <td>4</td>\n",
       "      <td>0.6</td>\n",
       "      <td>50</td>\n",
       "    </tr>\n",
       "    <tr>\n",
       "      <th>11</th>\n",
       "      <td>4.406916</td>\n",
       "      <td>4</td>\n",
       "      <td>0.6</td>\n",
       "      <td>70</td>\n",
       "    </tr>\n",
       "    <tr>\n",
       "      <th>23</th>\n",
       "      <td>4.409986</td>\n",
       "      <td>5</td>\n",
       "      <td>0.8</td>\n",
       "      <td>70</td>\n",
       "    </tr>\n",
       "    <tr>\n",
       "      <th>22</th>\n",
       "      <td>4.416445</td>\n",
       "      <td>5</td>\n",
       "      <td>0.8</td>\n",
       "      <td>50</td>\n",
       "    </tr>\n",
       "    <tr>\n",
       "      <th>21</th>\n",
       "      <td>4.426522</td>\n",
       "      <td>5</td>\n",
       "      <td>0.8</td>\n",
       "      <td>30</td>\n",
       "    </tr>\n",
       "    <tr>\n",
       "      <th>9</th>\n",
       "      <td>4.445370</td>\n",
       "      <td>4</td>\n",
       "      <td>0.6</td>\n",
       "      <td>30</td>\n",
       "    </tr>\n",
       "    <tr>\n",
       "      <th>19</th>\n",
       "      <td>4.710749</td>\n",
       "      <td>5</td>\n",
       "      <td>0.6</td>\n",
       "      <td>50</td>\n",
       "    </tr>\n",
       "    <tr>\n",
       "      <th>20</th>\n",
       "      <td>4.730896</td>\n",
       "      <td>5</td>\n",
       "      <td>0.6</td>\n",
       "      <td>70</td>\n",
       "    </tr>\n",
       "    <tr>\n",
       "      <th>18</th>\n",
       "      <td>4.739209</td>\n",
       "      <td>5</td>\n",
       "      <td>0.6</td>\n",
       "      <td>30</td>\n",
       "    </tr>\n",
       "  </tbody>\n",
       "</table>\n",
       "</div>"
      ],
      "text/plain": [
       "      metric  maxDepth  subsamplingRate  maxIter\n",
       "5   3.712986         3              0.8       70\n",
       "2   3.771435         3              0.6       70\n",
       "1   3.799881         3              0.6       50\n",
       "4   3.808517         3              0.8       50\n",
       "8   3.809639         3              1.0       70\n",
       "17  3.810990         4              1.0       70\n",
       "16  3.829869         4              1.0       50\n",
       "7   3.853383         3              1.0       50\n",
       "0   3.875134         3              0.6       30\n",
       "15  3.902165         4              1.0       30\n",
       "3   3.973143         3              0.8       30\n",
       "6   3.987665         3              1.0       30\n",
       "14  4.032434         4              0.8       70\n",
       "13  4.064640         4              0.8       50\n",
       "12  4.145409         4              0.8       30\n",
       "25  4.333987         5              1.0       50\n",
       "26  4.339036         5              1.0       70\n",
       "24  4.361112         5              1.0       30\n",
       "10  4.398943         4              0.6       50\n",
       "11  4.406916         4              0.6       70\n",
       "23  4.409986         5              0.8       70\n",
       "22  4.416445         5              0.8       50\n",
       "21  4.426522         5              0.8       30\n",
       "9   4.445370         4              0.6       30\n",
       "19  4.710749         5              0.6       50\n",
       "20  4.730896         5              0.6       70\n",
       "18  4.739209         5              0.6       30"
      ]
     },
     "execution_count": 114,
     "metadata": {},
     "output_type": "execute_result"
    }
   ],
   "source": [
    "check_cv_result(cv_model)"
   ]
  },
  {
   "cell_type": "code",
   "execution_count": 115,
   "id": "sweet-juvenile",
   "metadata": {},
   "outputs": [
    {
     "name": "stdout",
     "output_type": "stream",
     "text": [
      "MaxDepth :  3\n",
      "MaxIter:  70\n",
      "SubsamplingRate :  0.8\n"
     ]
    }
   ],
   "source": [
    "#モデルのパラメータを確認\n",
    "print(\"MaxDepth : \",  cv_model.bestModel.getMaxDepth())\n",
    "print(\"MaxIter: \",  cv_model.bestModel.getMaxIter())\n",
    "print(\"SubsamplingRate : \",  cv_model.bestModel.getSubsamplingRate())"
   ]
  },
  {
   "cell_type": "code",
   "execution_count": 116,
   "id": "unlikely-shower",
   "metadata": {},
   "outputs": [
    {
     "name": "stdout",
     "output_type": "stream",
     "text": [
      "+--------------------+-----+------------------+\n",
      "|            features|label|        prediction|\n",
      "+--------------------+-----+------------------+\n",
      "|[0.00632,18.0,2.3...| 24.0|25.339419229140248|\n",
      "|[0.0136,75.0,4.0,...| 18.9|18.439388760600504|\n",
      "|[0.01951,17.5,1.3...| 33.0| 32.60494370617383|\n",
      "|[0.02055,85.0,0.7...| 24.7|23.147168347766335|\n",
      "|[0.02731,0.0,7.07...| 21.6| 21.02113992063794|\n",
      "|[0.02763,75.0,2.9...| 30.8|29.703329089078736|\n",
      "|[0.02875,28.0,15....| 25.0| 26.15991887484538|\n",
      "|[0.03237,0.0,2.18...| 33.4|33.450959842061444|\n",
      "|[0.03359,75.0,2.9...| 34.9| 33.55133744979404|\n",
      "|[0.03584,80.0,3.3...| 23.5|24.061516679254037|\n",
      "|[0.03659,25.0,4.8...| 24.8| 23.89543588674491|\n",
      "|[0.04113,25.0,4.8...| 28.0| 26.96883672491584|\n",
      "|[0.04203,28.0,15....| 22.9|24.812566255319606|\n",
      "|[0.04294,28.0,15....| 20.6|20.401528187581203|\n",
      "|[0.04337,21.0,5.6...| 20.5|21.631223424990786|\n",
      "|[0.04379,80.0,3.3...| 19.4| 19.30606800056208|\n",
      "|[0.04462,25.0,4.8...| 23.9| 24.47302958220844|\n",
      "|[0.04684,0.0,3.41...| 22.6| 24.23347923788998|\n",
      "|[0.04981,21.0,5.6...| 23.4| 22.35715249783379|\n",
      "|[0.05059,0.0,4.49...| 23.9| 23.75027851572899|\n",
      "+--------------------+-----+------------------+\n",
      "only showing top 20 rows\n",
      "\n",
      "+--------------------+-----+------------------+\n",
      "|            features|label|        prediction|\n",
      "+--------------------+-----+------------------+\n",
      "|[0.00632,18.0,2.3...| 24.0|25.339419229140248|\n",
      "|[0.0136,75.0,4.0,...| 18.9|18.439388760600504|\n",
      "|[0.01951,17.5,1.3...| 33.0| 32.60494370617383|\n",
      "|[0.02055,85.0,0.7...| 24.7|23.147168347766335|\n",
      "|[0.02731,0.0,7.07...| 21.6| 21.02113992063794|\n",
      "|[0.02763,75.0,2.9...| 30.8|29.703329089078736|\n",
      "|[0.02875,28.0,15....| 25.0| 26.15991887484538|\n",
      "|[0.03237,0.0,2.18...| 33.4|33.450959842061444|\n",
      "|[0.03359,75.0,2.9...| 34.9| 33.55133744979404|\n",
      "|[0.03584,80.0,3.3...| 23.5|24.061516679254037|\n",
      "|[0.03659,25.0,4.8...| 24.8| 23.89543588674491|\n",
      "|[0.04113,25.0,4.8...| 28.0| 26.96883672491584|\n",
      "|[0.04203,28.0,15....| 22.9|24.812566255319606|\n",
      "|[0.04294,28.0,15....| 20.6|20.401528187581203|\n",
      "|[0.04337,21.0,5.6...| 20.5|21.631223424990786|\n",
      "|[0.04379,80.0,3.3...| 19.4| 19.30606800056208|\n",
      "|[0.04462,25.0,4.8...| 23.9| 24.47302958220844|\n",
      "|[0.04684,0.0,3.41...| 22.6| 24.23347923788998|\n",
      "|[0.04981,21.0,5.6...| 23.4| 22.35715249783379|\n",
      "|[0.05059,0.0,4.49...| 23.9| 23.75027851572899|\n",
      "+--------------------+-----+------------------+\n",
      "only showing top 20 rows\n",
      "\n"
     ]
    }
   ],
   "source": [
    "## cv_modelのtransformで使用されるモデルの確認\n",
    "predict_train = cv_model.bestModel.transform(train)\n",
    "predict_train.show()\n",
    "\n",
    "predict_train = cv_model.transform(train)\n",
    "predict_train.show()"
   ]
  },
  {
   "cell_type": "code",
   "execution_count": 117,
   "id": "human-thanks",
   "metadata": {},
   "outputs": [
    {
     "name": "stdout",
     "output_type": "stream",
     "text": [
      "+--------------------+-----+------------------+\n",
      "|            features|label|        prediction|\n",
      "+--------------------+-----+------------------+\n",
      "|[0.01311,90.0,1.2...| 35.4| 33.73492097814904|\n",
      "|[0.01432,100.0,1....| 31.6|  31.0880588119184|\n",
      "|[0.02729,0.0,7.07...| 34.7| 31.73506827962039|\n",
      "|[0.02985,0.0,2.18...| 28.7| 25.78866531896098|\n",
      "|[0.03551,25.0,4.8...| 22.9| 23.29028942986654|\n",
      "|[0.03932,0.0,3.41...| 22.0| 24.23347923788998|\n",
      "|[0.05789,12.5,6.0...| 22.0|20.436806239227504|\n",
      "|[0.06899,0.0,25.6...| 22.0|21.743991165002814|\n",
      "|[0.07165,0.0,25.6...| 20.3| 21.54104723388486|\n",
      "|[0.07896,0.0,12.8...| 24.1|25.990756396926248|\n",
      "|[0.09849,0.0,25.6...| 18.8| 20.18796682025256|\n",
      "|[0.10084,0.0,10.0...| 22.8| 25.95742510153246|\n",
      "|[0.10328,25.0,5.1...| 19.6| 21.37679744355977|\n",
      "|[0.10793,0.0,8.56...| 21.7|21.147343865736307|\n",
      "|[0.12269,0.0,6.91...| 21.2| 23.17638791806525|\n",
      "|[0.12744,0.0,6.91...| 26.6|31.112976771478873|\n",
      "|[0.12816,12.5,6.0...| 20.9|21.122435141822166|\n",
      "|[0.13058,0.0,10.0...| 20.4|18.500978776375234|\n",
      "|[0.13158,0.0,10.0...| 21.2| 20.15580301197443|\n",
      "|[0.14455,12.5,7.8...| 27.1| 17.69187099417258|\n",
      "+--------------------+-----+------------------+\n",
      "only showing top 20 rows\n",
      "\n"
     ]
    }
   ],
   "source": [
    "predict_test = cv_model.transform(test)\n",
    "predict_test.show()"
   ]
  },
  {
   "cell_type": "code",
   "execution_count": 118,
   "id": "limited-pound",
   "metadata": {},
   "outputs": [
    {
     "name": "stdout",
     "output_type": "stream",
     "text": [
      "train :  1.2305235463119917\n",
      "test :  3.3887344451402397\n"
     ]
    }
   ],
   "source": [
    "print(\"train : \", evaluator.evaluate(predict_train))\n",
    "print(\"test : \", evaluator.evaluate(predict_test))"
   ]
  },
  {
   "cell_type": "code",
   "execution_count": 119,
   "id": "sitting-ordinary",
   "metadata": {},
   "outputs": [],
   "source": [
    "spark.stop()"
   ]
  },
  {
   "cell_type": "code",
   "execution_count": null,
   "id": "italic-mouth",
   "metadata": {},
   "outputs": [],
   "source": []
  }
 ],
 "metadata": {
  "kernelspec": {
   "display_name": "ml_study",
   "language": "python",
   "name": "ml_study-mpxukohs"
  },
  "language_info": {
   "codemirror_mode": {
    "name": "ipython",
    "version": 3
   },
   "file_extension": ".py",
   "mimetype": "text/x-python",
   "name": "python",
   "nbconvert_exporter": "python",
   "pygments_lexer": "ipython3",
   "version": "3.8.5"
  }
 },
 "nbformat": 4,
 "nbformat_minor": 5
}
